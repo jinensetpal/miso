{
 "cells": [
  {
   "cell_type": "code",
   "execution_count": 62,
   "metadata": {
    "gather": {
     "logged": 1638600117705
    }
   },
   "outputs": [
    {
     "data": {
      "text/html": [
       "<div>\n",
       "<style scoped>\n",
       "    .dataframe tbody tr th:only-of-type {\n",
       "        vertical-align: middle;\n",
       "    }\n",
       "\n",
       "    .dataframe tbody tr th {\n",
       "        vertical-align: top;\n",
       "    }\n",
       "\n",
       "    .dataframe thead th {\n",
       "        text-align: right;\n",
       "    }\n",
       "</style>\n",
       "<table border=\"1\" class=\"dataframe\">\n",
       "  <thead>\n",
       "    <tr style=\"text-align: right;\">\n",
       "      <th></th>\n",
       "      <th>CASEID</th>\n",
       "      <th>CASENAME</th>\n",
       "      <th>CREATEDDATE_EST</th>\n",
       "      <th>PROCESSITERATION</th>\n",
       "      <th>QUEUEDTIME</th>\n",
       "      <th>EXPORTER_LAG</th>\n",
       "      <th>EXPORTER</th>\n",
       "      <th>SPD_LAG</th>\n",
       "      <th>SPD</th>\n",
       "      <th>IMPORTER_LAG</th>\n",
       "      <th>...</th>\n",
       "      <th>BINDING</th>\n",
       "      <th>CONSTRAINT_COUNT</th>\n",
       "      <th>APPROVAL_LAG</th>\n",
       "      <th>APPROVAL</th>\n",
       "      <th>CALCTIME_CORRECT</th>\n",
       "      <th>EXECUTION_EST</th>\n",
       "      <th>SOLVEDTIME_EST</th>\n",
       "      <th>APPROVEDTIME_EST</th>\n",
       "      <th>CASESTARTINTERVAL_EST</th>\n",
       "      <th>CASESTOPINTERVAL_EST</th>\n",
       "    </tr>\n",
       "  </thead>\n",
       "  <tbody>\n",
       "    <tr>\n",
       "      <th>0</th>\n",
       "      <td>3.004202e+15</td>\n",
       "      <td>RTUDS_0 30-JAN-2018 16:30</td>\n",
       "      <td>1/30/18 16:21</td>\n",
       "      <td>1</td>\n",
       "      <td>1</td>\n",
       "      <td>0</td>\n",
       "      <td>72</td>\n",
       "      <td>0</td>\n",
       "      <td>38</td>\n",
       "      <td>0</td>\n",
       "      <td>...</td>\n",
       "      <td>6.0</td>\n",
       "      <td>26.0</td>\n",
       "      <td>23.0</td>\n",
       "      <td>0.0</td>\n",
       "      <td>114</td>\n",
       "      <td>1/30/18 16:21</td>\n",
       "      <td>1/30/18 16:22</td>\n",
       "      <td>1/30/18 16:23</td>\n",
       "      <td>1/30/18 16:30</td>\n",
       "      <td>1/30/18 16:30</td>\n",
       "    </tr>\n",
       "    <tr>\n",
       "      <th>1</th>\n",
       "      <td>3.004202e+15</td>\n",
       "      <td>RTUDS_1 30-JAN-2018 16:35</td>\n",
       "      <td>1/30/18 16:26</td>\n",
       "      <td>1</td>\n",
       "      <td>1</td>\n",
       "      <td>0</td>\n",
       "      <td>25</td>\n",
       "      <td>0</td>\n",
       "      <td>37</td>\n",
       "      <td>0</td>\n",
       "      <td>...</td>\n",
       "      <td>5.0</td>\n",
       "      <td>26.0</td>\n",
       "      <td>39.0</td>\n",
       "      <td>1.0</td>\n",
       "      <td>66</td>\n",
       "      <td>1/30/18 16:26</td>\n",
       "      <td>1/30/18 16:27</td>\n",
       "      <td>1/30/18 16:27</td>\n",
       "      <td>1/30/18 16:35</td>\n",
       "      <td>1/30/18 16:35</td>\n",
       "    </tr>\n",
       "    <tr>\n",
       "      <th>2</th>\n",
       "      <td>3.004202e+15</td>\n",
       "      <td>RTUDS_0 30-JAN-2018 16:40</td>\n",
       "      <td>1/30/18 16:31</td>\n",
       "      <td>1</td>\n",
       "      <td>1</td>\n",
       "      <td>0</td>\n",
       "      <td>22</td>\n",
       "      <td>0</td>\n",
       "      <td>38</td>\n",
       "      <td>1</td>\n",
       "      <td>...</td>\n",
       "      <td>5.0</td>\n",
       "      <td>26.0</td>\n",
       "      <td>29.0</td>\n",
       "      <td>0.0</td>\n",
       "      <td>66</td>\n",
       "      <td>1/30/18 16:31</td>\n",
       "      <td>1/30/18 16:32</td>\n",
       "      <td>1/30/18 16:32</td>\n",
       "      <td>1/30/18 16:40</td>\n",
       "      <td>1/30/18 16:40</td>\n",
       "    </tr>\n",
       "    <tr>\n",
       "      <th>3</th>\n",
       "      <td>3.004202e+15</td>\n",
       "      <td>RTUDS_0 30-JAN-2018 16:45</td>\n",
       "      <td>1/30/18 16:36</td>\n",
       "      <td>1</td>\n",
       "      <td>0</td>\n",
       "      <td>1</td>\n",
       "      <td>21</td>\n",
       "      <td>0</td>\n",
       "      <td>37</td>\n",
       "      <td>0</td>\n",
       "      <td>...</td>\n",
       "      <td>7.0</td>\n",
       "      <td>24.0</td>\n",
       "      <td>32.0</td>\n",
       "      <td>0.0</td>\n",
       "      <td>62</td>\n",
       "      <td>1/30/18 16:36</td>\n",
       "      <td>1/30/18 16:37</td>\n",
       "      <td>1/30/18 16:37</td>\n",
       "      <td>1/30/18 16:45</td>\n",
       "      <td>1/30/18 16:45</td>\n",
       "    </tr>\n",
       "    <tr>\n",
       "      <th>4</th>\n",
       "      <td>3.004202e+15</td>\n",
       "      <td>RTUDS_0 30-JAN-2018 16:50</td>\n",
       "      <td>1/30/18 16:42</td>\n",
       "      <td>1</td>\n",
       "      <td>0</td>\n",
       "      <td>0</td>\n",
       "      <td>19</td>\n",
       "      <td>0</td>\n",
       "      <td>39</td>\n",
       "      <td>0</td>\n",
       "      <td>...</td>\n",
       "      <td>5.0</td>\n",
       "      <td>24.0</td>\n",
       "      <td>37.0</td>\n",
       "      <td>0.0</td>\n",
       "      <td>61</td>\n",
       "      <td>1/30/18 16:42</td>\n",
       "      <td>1/30/18 16:43</td>\n",
       "      <td>1/30/18 16:44</td>\n",
       "      <td>1/30/18 16:50</td>\n",
       "      <td>1/30/18 16:50</td>\n",
       "    </tr>\n",
       "    <tr>\n",
       "      <th>...</th>\n",
       "      <td>...</td>\n",
       "      <td>...</td>\n",
       "      <td>...</td>\n",
       "      <td>...</td>\n",
       "      <td>...</td>\n",
       "      <td>...</td>\n",
       "      <td>...</td>\n",
       "      <td>...</td>\n",
       "      <td>...</td>\n",
       "      <td>...</td>\n",
       "      <td>...</td>\n",
       "      <td>...</td>\n",
       "      <td>...</td>\n",
       "      <td>...</td>\n",
       "      <td>...</td>\n",
       "      <td>...</td>\n",
       "      <td>...</td>\n",
       "      <td>...</td>\n",
       "      <td>...</td>\n",
       "      <td>...</td>\n",
       "      <td>...</td>\n",
       "    </tr>\n",
       "    <tr>\n",
       "      <th>375783</th>\n",
       "      <td>2.904202e+15</td>\n",
       "      <td>RTUDS_5 29-AUG-2021 23:35</td>\n",
       "      <td>8/29/21 23:26</td>\n",
       "      <td>1</td>\n",
       "      <td>0</td>\n",
       "      <td>0</td>\n",
       "      <td>28</td>\n",
       "      <td>0</td>\n",
       "      <td>27</td>\n",
       "      <td>0</td>\n",
       "      <td>...</td>\n",
       "      <td>1.0</td>\n",
       "      <td>14.0</td>\n",
       "      <td>51.0</td>\n",
       "      <td>1.0</td>\n",
       "      <td>59</td>\n",
       "      <td>8/29/21 23:26</td>\n",
       "      <td>8/29/21 23:27</td>\n",
       "      <td>8/29/21 23:27</td>\n",
       "      <td>8/29/21 23:35</td>\n",
       "      <td>8/29/21 23:35</td>\n",
       "    </tr>\n",
       "    <tr>\n",
       "      <th>375784</th>\n",
       "      <td>2.904202e+15</td>\n",
       "      <td>RTUDS_5 29-AUG-2021 23:40</td>\n",
       "      <td>8/29/21 23:31</td>\n",
       "      <td>1</td>\n",
       "      <td>1</td>\n",
       "      <td>0</td>\n",
       "      <td>28</td>\n",
       "      <td>0</td>\n",
       "      <td>27</td>\n",
       "      <td>1</td>\n",
       "      <td>...</td>\n",
       "      <td>1.0</td>\n",
       "      <td>14.0</td>\n",
       "      <td>27.0</td>\n",
       "      <td>0.0</td>\n",
       "      <td>60</td>\n",
       "      <td>8/29/21 23:31</td>\n",
       "      <td>8/29/21 23:32</td>\n",
       "      <td>8/29/21 23:32</td>\n",
       "      <td>8/29/21 23:40</td>\n",
       "      <td>8/29/21 23:40</td>\n",
       "    </tr>\n",
       "    <tr>\n",
       "      <th>375785</th>\n",
       "      <td>2.904202e+15</td>\n",
       "      <td>RTUDS_3 29-AUG-2021 23:45</td>\n",
       "      <td>8/29/21 23:36</td>\n",
       "      <td>1</td>\n",
       "      <td>0</td>\n",
       "      <td>0</td>\n",
       "      <td>27</td>\n",
       "      <td>0</td>\n",
       "      <td>28</td>\n",
       "      <td>0</td>\n",
       "      <td>...</td>\n",
       "      <td>1.0</td>\n",
       "      <td>14.0</td>\n",
       "      <td>41.0</td>\n",
       "      <td>0.0</td>\n",
       "      <td>58</td>\n",
       "      <td>8/29/21 23:36</td>\n",
       "      <td>8/29/21 23:36</td>\n",
       "      <td>8/29/21 23:37</td>\n",
       "      <td>8/29/21 23:45</td>\n",
       "      <td>8/29/21 23:45</td>\n",
       "    </tr>\n",
       "    <tr>\n",
       "      <th>375786</th>\n",
       "      <td>2.904202e+15</td>\n",
       "      <td>RTUDS_5 29-AUG-2021 23:50</td>\n",
       "      <td>8/29/21 23:41</td>\n",
       "      <td>1</td>\n",
       "      <td>0</td>\n",
       "      <td>0</td>\n",
       "      <td>26</td>\n",
       "      <td>0</td>\n",
       "      <td>28</td>\n",
       "      <td>0</td>\n",
       "      <td>...</td>\n",
       "      <td>1.0</td>\n",
       "      <td>13.0</td>\n",
       "      <td>117.0</td>\n",
       "      <td>1.0</td>\n",
       "      <td>57</td>\n",
       "      <td>8/29/21 23:41</td>\n",
       "      <td>8/29/21 23:41</td>\n",
       "      <td>8/29/21 23:43</td>\n",
       "      <td>8/29/21 23:50</td>\n",
       "      <td>8/29/21 23:50</td>\n",
       "    </tr>\n",
       "    <tr>\n",
       "      <th>375787</th>\n",
       "      <td>2.904202e+15</td>\n",
       "      <td>RTUDS_2 29-AUG-2021 23:55</td>\n",
       "      <td>8/29/21 23:46</td>\n",
       "      <td>1</td>\n",
       "      <td>0</td>\n",
       "      <td>0</td>\n",
       "      <td>38</td>\n",
       "      <td>0</td>\n",
       "      <td>27</td>\n",
       "      <td>0</td>\n",
       "      <td>...</td>\n",
       "      <td>1.0</td>\n",
       "      <td>12.0</td>\n",
       "      <td>148.0</td>\n",
       "      <td>0.0</td>\n",
       "      <td>68</td>\n",
       "      <td>8/29/21 23:46</td>\n",
       "      <td>8/29/21 23:47</td>\n",
       "      <td>8/29/21 23:49</td>\n",
       "      <td>8/29/21 23:55</td>\n",
       "      <td>8/29/21 23:55</td>\n",
       "    </tr>\n",
       "  </tbody>\n",
       "</table>\n",
       "<p>375784 rows × 23 columns</p>\n",
       "</div>"
      ],
      "text/plain": [
       "              CASEID                   CASENAME CREATEDDATE_EST  \\\n",
       "0       3.004202e+15  RTUDS_0 30-JAN-2018 16:30   1/30/18 16:21   \n",
       "1       3.004202e+15  RTUDS_1 30-JAN-2018 16:35   1/30/18 16:26   \n",
       "2       3.004202e+15  RTUDS_0 30-JAN-2018 16:40   1/30/18 16:31   \n",
       "3       3.004202e+15  RTUDS_0 30-JAN-2018 16:45   1/30/18 16:36   \n",
       "4       3.004202e+15  RTUDS_0 30-JAN-2018 16:50   1/30/18 16:42   \n",
       "...              ...                        ...             ...   \n",
       "375783  2.904202e+15  RTUDS_5 29-AUG-2021 23:35   8/29/21 23:26   \n",
       "375784  2.904202e+15  RTUDS_5 29-AUG-2021 23:40   8/29/21 23:31   \n",
       "375785  2.904202e+15  RTUDS_3 29-AUG-2021 23:45   8/29/21 23:36   \n",
       "375786  2.904202e+15  RTUDS_5 29-AUG-2021 23:50   8/29/21 23:41   \n",
       "375787  2.904202e+15  RTUDS_2 29-AUG-2021 23:55   8/29/21 23:46   \n",
       "\n",
       "        PROCESSITERATION  QUEUEDTIME  EXPORTER_LAG  EXPORTER  SPD_LAG  SPD  \\\n",
       "0                      1           1             0        72        0   38   \n",
       "1                      1           1             0        25        0   37   \n",
       "2                      1           1             0        22        0   38   \n",
       "3                      1           0             1        21        0   37   \n",
       "4                      1           0             0        19        0   39   \n",
       "...                  ...         ...           ...       ...      ...  ...   \n",
       "375783                 1           0             0        28        0   27   \n",
       "375784                 1           1             0        28        0   27   \n",
       "375785                 1           0             0        27        0   28   \n",
       "375786                 1           0             0        26        0   28   \n",
       "375787                 1           0             0        38        0   27   \n",
       "\n",
       "        IMPORTER_LAG  ...  BINDING  CONSTRAINT_COUNT  APPROVAL_LAG  APPROVAL  \\\n",
       "0                  0  ...      6.0              26.0          23.0       0.0   \n",
       "1                  0  ...      5.0              26.0          39.0       1.0   \n",
       "2                  1  ...      5.0              26.0          29.0       0.0   \n",
       "3                  0  ...      7.0              24.0          32.0       0.0   \n",
       "4                  0  ...      5.0              24.0          37.0       0.0   \n",
       "...              ...  ...      ...               ...           ...       ...   \n",
       "375783             0  ...      1.0              14.0          51.0       1.0   \n",
       "375784             1  ...      1.0              14.0          27.0       0.0   \n",
       "375785             0  ...      1.0              14.0          41.0       0.0   \n",
       "375786             0  ...      1.0              13.0         117.0       1.0   \n",
       "375787             0  ...      1.0              12.0         148.0       0.0   \n",
       "\n",
       "        CALCTIME_CORRECT  EXECUTION_EST  SOLVEDTIME_EST  APPROVEDTIME_EST  \\\n",
       "0                    114  1/30/18 16:21   1/30/18 16:22     1/30/18 16:23   \n",
       "1                     66  1/30/18 16:26   1/30/18 16:27     1/30/18 16:27   \n",
       "2                     66  1/30/18 16:31   1/30/18 16:32     1/30/18 16:32   \n",
       "3                     62  1/30/18 16:36   1/30/18 16:37     1/30/18 16:37   \n",
       "4                     61  1/30/18 16:42   1/30/18 16:43     1/30/18 16:44   \n",
       "...                  ...            ...             ...               ...   \n",
       "375783                59  8/29/21 23:26   8/29/21 23:27     8/29/21 23:27   \n",
       "375784                60  8/29/21 23:31   8/29/21 23:32     8/29/21 23:32   \n",
       "375785                58  8/29/21 23:36   8/29/21 23:36     8/29/21 23:37   \n",
       "375786                57  8/29/21 23:41   8/29/21 23:41     8/29/21 23:43   \n",
       "375787                68  8/29/21 23:46   8/29/21 23:47     8/29/21 23:49   \n",
       "\n",
       "       CASESTARTINTERVAL_EST CASESTOPINTERVAL_EST  \n",
       "0              1/30/18 16:30        1/30/18 16:30  \n",
       "1              1/30/18 16:35        1/30/18 16:35  \n",
       "2              1/30/18 16:40        1/30/18 16:40  \n",
       "3              1/30/18 16:45        1/30/18 16:45  \n",
       "4              1/30/18 16:50        1/30/18 16:50  \n",
       "...                      ...                  ...  \n",
       "375783         8/29/21 23:35        8/29/21 23:35  \n",
       "375784         8/29/21 23:40        8/29/21 23:40  \n",
       "375785         8/29/21 23:45        8/29/21 23:45  \n",
       "375786         8/29/21 23:50        8/29/21 23:50  \n",
       "375787         8/29/21 23:55        8/29/21 23:55  \n",
       "\n",
       "[375784 rows x 23 columns]"
      ]
     },
     "execution_count": 62,
     "metadata": {},
     "output_type": "execute_result"
    }
   ],
   "source": [
    "import pandas as pd\n",
    "\n",
    "df = pd.read_csv('purdue-data.csv')\n",
    "df.dropna()"
   ]
  },
  {
   "cell_type": "code",
   "execution_count": 63,
   "metadata": {
    "gather": {
     "logged": 1638600118083
    },
    "jupyter": {
     "outputs_hidden": false,
     "source_hidden": false
    },
    "nteract": {
     "transient": {
      "deleting": false
     }
    }
   },
   "outputs": [
    {
     "data": {
      "text/plain": [
       "Index(['CASEID', 'CASENAME', 'CREATEDDATE_EST', 'PROCESSITERATION',\n",
       "       'QUEUEDTIME', 'EXPORTER_LAG', 'EXPORTER', 'SPD_LAG', 'SPD',\n",
       "       'IMPORTER_LAG', 'IMPORTER', 'CRUDSCASE', 'QUICKUDS', 'BINDING',\n",
       "       'CONSTRAINT_COUNT', 'APPROVAL_LAG', 'APPROVAL', 'CALCTIME_CORRECT',\n",
       "       'EXECUTION_EST', 'SOLVEDTIME_EST', 'APPROVEDTIME_EST',\n",
       "       'CASESTARTINTERVAL_EST', 'CASESTOPINTERVAL_EST'],\n",
       "      dtype='object')"
      ]
     },
     "execution_count": 63,
     "metadata": {},
     "output_type": "execute_result"
    }
   ],
   "source": [
    "df.columns"
   ]
  },
  {
   "cell_type": "code",
   "execution_count": 72,
   "metadata": {
    "gather": {
     "logged": 1638600240293
    },
    "jupyter": {
     "outputs_hidden": false,
     "source_hidden": false
    },
    "nteract": {
     "transient": {
      "deleting": false
     }
    }
   },
   "outputs": [],
   "source": [
    "X, y = df[['EXPORTER_LAG', 'SPD_LAG', 'SPD',\n",
    "       'IMPORTER_LAG', 'IMPORTER', 'CRUDSCASE', 'QUICKUDS', 'BINDING',\n",
    "       'CONSTRAINT_COUNT']], df['CALCTIME_CORRECT']"
   ]
  },
  {
   "cell_type": "code",
   "execution_count": 73,
   "metadata": {
    "gather": {
     "logged": 1638600241173
    },
    "jupyter": {
     "outputs_hidden": false,
     "source_hidden": false
    },
    "nteract": {
     "transient": {
      "deleting": false
     }
    }
   },
   "outputs": [
    {
     "data": {
      "text/html": [
       "<div>\n",
       "<style scoped>\n",
       "    .dataframe tbody tr th:only-of-type {\n",
       "        vertical-align: middle;\n",
       "    }\n",
       "\n",
       "    .dataframe tbody tr th {\n",
       "        vertical-align: top;\n",
       "    }\n",
       "\n",
       "    .dataframe thead th {\n",
       "        text-align: right;\n",
       "    }\n",
       "</style>\n",
       "<table border=\"1\" class=\"dataframe\">\n",
       "  <thead>\n",
       "    <tr style=\"text-align: right;\">\n",
       "      <th></th>\n",
       "      <th>EXPORTER_LAG</th>\n",
       "      <th>SPD_LAG</th>\n",
       "      <th>SPD</th>\n",
       "      <th>IMPORTER_LAG</th>\n",
       "      <th>IMPORTER</th>\n",
       "      <th>CRUDSCASE</th>\n",
       "      <th>QUICKUDS</th>\n",
       "      <th>BINDING</th>\n",
       "      <th>CONSTRAINT_COUNT</th>\n",
       "    </tr>\n",
       "  </thead>\n",
       "  <tbody>\n",
       "    <tr>\n",
       "      <th>0</th>\n",
       "      <td>0</td>\n",
       "      <td>0</td>\n",
       "      <td>38</td>\n",
       "      <td>0</td>\n",
       "      <td>3</td>\n",
       "      <td>0</td>\n",
       "      <td>0</td>\n",
       "      <td>6.0</td>\n",
       "      <td>26.0</td>\n",
       "    </tr>\n",
       "    <tr>\n",
       "      <th>1</th>\n",
       "      <td>0</td>\n",
       "      <td>0</td>\n",
       "      <td>37</td>\n",
       "      <td>0</td>\n",
       "      <td>3</td>\n",
       "      <td>0</td>\n",
       "      <td>0</td>\n",
       "      <td>5.0</td>\n",
       "      <td>26.0</td>\n",
       "    </tr>\n",
       "    <tr>\n",
       "      <th>2</th>\n",
       "      <td>0</td>\n",
       "      <td>0</td>\n",
       "      <td>38</td>\n",
       "      <td>1</td>\n",
       "      <td>4</td>\n",
       "      <td>0</td>\n",
       "      <td>0</td>\n",
       "      <td>5.0</td>\n",
       "      <td>26.0</td>\n",
       "    </tr>\n",
       "    <tr>\n",
       "      <th>3</th>\n",
       "      <td>1</td>\n",
       "      <td>0</td>\n",
       "      <td>37</td>\n",
       "      <td>0</td>\n",
       "      <td>3</td>\n",
       "      <td>0</td>\n",
       "      <td>0</td>\n",
       "      <td>7.0</td>\n",
       "      <td>24.0</td>\n",
       "    </tr>\n",
       "    <tr>\n",
       "      <th>4</th>\n",
       "      <td>0</td>\n",
       "      <td>0</td>\n",
       "      <td>39</td>\n",
       "      <td>0</td>\n",
       "      <td>3</td>\n",
       "      <td>1</td>\n",
       "      <td>0</td>\n",
       "      <td>5.0</td>\n",
       "      <td>24.0</td>\n",
       "    </tr>\n",
       "  </tbody>\n",
       "</table>\n",
       "</div>"
      ],
      "text/plain": [
       "   EXPORTER_LAG  SPD_LAG  SPD  IMPORTER_LAG  IMPORTER  CRUDSCASE  QUICKUDS  \\\n",
       "0             0        0   38             0         3          0         0   \n",
       "1             0        0   37             0         3          0         0   \n",
       "2             0        0   38             1         4          0         0   \n",
       "3             1        0   37             0         3          0         0   \n",
       "4             0        0   39             0         3          1         0   \n",
       "\n",
       "   BINDING  CONSTRAINT_COUNT  \n",
       "0      6.0              26.0  \n",
       "1      5.0              26.0  \n",
       "2      5.0              26.0  \n",
       "3      7.0              24.0  \n",
       "4      5.0              24.0  "
      ]
     },
     "execution_count": 73,
     "metadata": {},
     "output_type": "execute_result"
    }
   ],
   "source": [
    "X.head()"
   ]
  },
  {
   "cell_type": "code",
   "execution_count": 74,
   "metadata": {
    "gather": {
     "logged": 1638600244175
    },
    "jupyter": {
     "outputs_hidden": false,
     "source_hidden": false
    },
    "nteract": {
     "transient": {
      "deleting": false
     }
    }
   },
   "outputs": [],
   "source": [
    "import numpy as np\n",
    "\n",
    "tmp = []\n",
    "for i in y:\n",
    "    if i > 99:\n",
    "        tmp.append(1)\n",
    "    else:\n",
    "        tmp.append(0)\n",
    "y = np.array(tmp)"
   ]
  },
  {
   "cell_type": "code",
   "execution_count": 75,
   "metadata": {
    "gather": {
     "logged": 1638600244693
    },
    "jupyter": {
     "outputs_hidden": false,
     "source_hidden": false
    },
    "nteract": {
     "transient": {
      "deleting": false
     }
    }
   },
   "outputs": [
    {
     "data": {
      "text/plain": [
       "array([1, 0, 0, ..., 0, 0, 0])"
      ]
     },
     "execution_count": 75,
     "metadata": {},
     "output_type": "execute_result"
    }
   ],
   "source": [
    "y"
   ]
  },
  {
   "cell_type": "code",
   "execution_count": 76,
   "metadata": {
    "gather": {
     "logged": 1638600246407
    },
    "jupyter": {
     "outputs_hidden": false,
     "source_hidden": false
    },
    "nteract": {
     "transient": {
      "deleting": false
     }
    }
   },
   "outputs": [],
   "source": [
    "from sklearn.model_selection import train_test_split\n",
    "\n",
    "X_train, X_test, y_train, y_test = train_test_split(X, y, test_size=0.05, random_state=42)\n",
    "X_valid, X_test, y_valid, y_test = train_test_split(X_test, y_test, test_size=0.5, random_state=24)"
   ]
  },
  {
   "cell_type": "code",
   "execution_count": 77,
   "metadata": {
    "gather": {
     "logged": 1638600247217
    },
    "jupyter": {
     "outputs_hidden": false,
     "source_hidden": false
    },
    "nteract": {
     "transient": {
      "deleting": false
     }
    }
   },
   "outputs": [
    {
     "data": {
      "text/plain": [
       "(356998, 9)"
      ]
     },
     "execution_count": 77,
     "metadata": {},
     "output_type": "execute_result"
    }
   ],
   "source": [
    "X_train.shape"
   ]
  },
  {
   "cell_type": "code",
   "execution_count": 82,
   "metadata": {
    "gather": {
     "logged": 1638600281471
    },
    "jupyter": {
     "outputs_hidden": false,
     "source_hidden": false
    },
    "nteract": {
     "transient": {
      "deleting": false
     }
    }
   },
   "outputs": [
    {
     "name": "stdout",
     "output_type": "stream",
     "text": [
      "Model: \"sequential_7\"\n",
      "_________________________________________________________________\n",
      "Layer (type)                 Output Shape              Param #   \n",
      "=================================================================\n",
      "dense_39 (Dense)             (None, 20)                200       \n",
      "_________________________________________________________________\n",
      "dense_40 (Dense)             (None, 40)                840       \n",
      "_________________________________________________________________\n",
      "dropout_12 (Dropout)         (None, 40)                0         \n",
      "_________________________________________________________________\n",
      "dense_41 (Dense)             (None, 40)                1640      \n",
      "_________________________________________________________________\n",
      "dropout_13 (Dropout)         (None, 40)                0         \n",
      "_________________________________________________________________\n",
      "dense_42 (Dense)             (None, 20)                820       \n",
      "_________________________________________________________________\n",
      "dense_43 (Dense)             (None, 10)                210       \n",
      "_________________________________________________________________\n",
      "dense_44 (Dense)             (None, 1)                 11        \n",
      "=================================================================\n",
      "Total params: 3,721\n",
      "Trainable params: 3,721\n",
      "Non-trainable params: 0\n",
      "_________________________________________________________________\n"
     ]
    }
   ],
   "source": [
    "import tensorflow as tf\n",
    "\n",
    "model = tf.keras.Sequential([\n",
    "    tf.keras.layers.Input(shape=(9,), name='input_features'),\n",
    "    tf.keras.layers.Dense(units=20, activation=tf.keras.activations.relu),\n",
    "    tf.keras.layers.Dense(units=40, activation=tf.keras.activations.relu),\n",
    "    tf.keras.layers.Dropout(.2),\n",
    "    tf.keras.layers.Dense(units=40, activation=tf.keras.activations.relu),\n",
    "    tf.keras.layers.Dropout(.2),\n",
    "    tf.keras.layers.Dense(units=20, activation=tf.keras.activations.relu),\n",
    "    tf.keras.layers.Dense(units=10, activation=tf.keras.activations.relu),\n",
    "    tf.keras.layers.Dense(units=1, activation=tf.keras.activations.sigmoid)\n",
    "])\n",
    "\n",
    "model.summary()"
   ]
  },
  {
   "cell_type": "code",
   "execution_count": 101,
   "metadata": {
    "gather": {
     "logged": 1638600819019
    },
    "jupyter": {
     "outputs_hidden": false,
     "source_hidden": false
    },
    "nteract": {
     "transient": {
      "deleting": false
     }
    }
   },
   "outputs": [
    {
     "name": "stdout",
     "output_type": "stream",
     "text": [
      "Model compiled...\n",
      "Train on 356998 samples, validate on 9395 samples\n",
      "Epoch 1/5\n",
      "356998/356998 [==============================] - 17s 47us/sample - loss: nan - accuracy: 0.9948 - val_loss: nan - val_accuracy: 0.9944\b\b\b\b\b\b\b\b\b\b\b\b\b\b\b\b\b\b\b\b\b\b\b\b\b\b\b\b\b\b\b\b\b\b\b\b\b\b\b\b\b\b\b\b\b\b\b\b\b\b\n",
      "Epoch 2/5\n",
      "356998/356998 [==============================] - 17s 47us/sample - loss: nan - accuracy: 0.9948 - val_loss: nan - val_accuracy: 0.9944\b\b\b\b\b\b\b\b\b\b\b\b\b\b\b\b\b\b\b\b\b\b\b\b\b\b\b\b\b\b\b\b\b\b\b\b\b\b\b\b\b\b\n",
      "Epoch 3/5\n",
      "356998/356998 [==============================] - 17s 46us/sample - loss: nan - accuracy: 0.9948 - val_loss: nan - val_accuracy: 0.9944\b\b\b\b\b\b\b\b\b\b\b\b\b\b\b\b\b\b\b\b\b\b\b\b\b\b\b\b\b\b\b\b\b\b\b\b\b\b\b\b\b\b\n",
      "Epoch 4/5\n",
      "356998/356998 [==============================] - 17s 46us/sample - loss: nan - accuracy: 0.9948 - val_loss: nan - val_accuracy: 0.9944\b\b\b\b\b\b\b\b\b\b\b\b\b\b\b\b\b\b\b\b\b\b\b\b\b\b\b\b\b\b\b\b\b\b\b\b\b\b\b\b\b\b\n",
      "Epoch 5/5\n",
      "356998/356998 [==============================] - 17s 46us/sample - loss: nan - accuracy: 0.9948 - val_loss: nan - val_accuracy: 0.9944\b\b\b\b\b\b\b\b\b\b\b\b\b\b\b\b\b\b\b\b\b\b\b\b\b\b\b\b\b\b\b\b\b\b\b\b\b\b\b\b\b\b\n",
      "Model trained...\n"
     ]
    }
   ],
   "source": [
    "model.compile(optimizer=tf.keras.optimizers.Adam(lr=1e-5),\n",
    "              loss=tf.keras.losses.BinaryCrossentropy(),\n",
    "              metrics=['accuracy'])\n",
    "print(\"Model compiled...\")\n",
    "reduce_lr = tf.keras.callbacks.ReduceLROnPlateau()\n",
    "history = model.fit(x=X_train, y=y_train, epochs=5, validation_data=(X_valid, y_valid), callbacks=[reduce_lr], verbose=1)\n",
    "print(\"Model trained...\")"
   ]
  },
  {
   "cell_type": "code",
   "execution_count": 102,
   "metadata": {
    "gather": {
     "logged": 1638600824250
    },
    "jupyter": {
     "outputs_hidden": false,
     "source_hidden": false
    },
    "nteract": {
     "transient": {
      "deleting": false
     }
    }
   },
   "outputs": [
    {
     "name": "stdout",
     "output_type": "stream",
     "text": [
      "\r",
      "  32/9395 [..............................] - ETA: 0s - loss: nan - accuracy: 1.0000\b\b\b\b\b\b\b\b\b\b\b\b\b\b\b\b\b\b\b\b\b\b\b\b\b\b\b\b\b\b\b\b\b\b\b\b\b\b\b\b\b\b\b\b\b\b\b\b\b\b\b\b\b\b\b\b\b\b\b\b\b\b\b\b\b\b\b\b\b\b\b\b\b\b\b\b\b\b\b\b\b\b\b\r",
      "2112/9395 [=====>........................] - ETA: 0s - loss: nan - accuracy: 0.9953\b\b\b\b\b\b\b\b\b\b\b\b\b\b\b\b\b\b\b\b\b\b\b\b\b\b\b\b\b\b\b\b\b\b\b\b\b\b\b\b\b\b\b\b\b\b\b\b\b\b\b\b\b\b\b\b\b\b\b\b\b\b\b\b\b\b\b\b\b\b\b\b\b\b\b\b\b\b\b\b\b\b\b\r",
      "4320/9395 [============>.................] - ETA: 0s - loss: nan - accuracy: 0.9958\b\b\b\b\b\b\b\b\b\b\b\b\b\b\b\b\b\b\b\b\b\b\b\b\b\b\b\b\b\b\b\b\b\b\b\b\b\b\b\b\b\b\b\b\b\b\b\b\b\b\b\b\b\b\b\b\b\b\b\b\b\b\b\b\b\b\b\b\b\b\b\b\b\b\b\b\b\b\b\b\b\b\b\r",
      "6656/9395 [====================>.........] - ETA: 0s - loss: nan - accuracy: 0.9952\b\b\b\b\b\b\b\b\b\b\b\b\b\b\b\b\b\b\b\b\b\b\b\b\b\b\b\b\b\b\b\b\b\b\b\b\b\b\b\b\b\b\b\b\b\b\b\b\b\b\b\b\b\b\b\b\b\b\b\b\b\b\b\b\b\b\b\b\b\b\b\b\b\b\b\b\b\b\b\b\b\b\b\r",
      "8864/9395 [===========================>..] - ETA: 0s - loss: nan - accuracy: 0.9956\b\b\b\b\b\b\b\b\b\b\b\b\b\b\b\b\b\b\b\b\b\b\b\b\b\b\b\b\b\b\b\b\b\b\b\b\b\b\b\b\b\b\b\b\b\b\b\b\b\b\b\b\b\b\b\b\b\b\b\b\b\b\b\b\b\b\b\b\b\b\b\b\b\b\b\b\b\b\b\b\b\b\b\r",
      "9395/9395 [==============================] - 0s 23us/sample - loss: nan - accuracy: 0.9956\n"
     ]
    },
    {
     "data": {
      "text/plain": [
       "[nan, 0.995636]"
      ]
     },
     "execution_count": 102,
     "metadata": {},
     "output_type": "execute_result"
    }
   ],
   "source": [
    "model.evaluate(X_test, y_test)"
   ]
  },
  {
   "cell_type": "code",
   "execution_count": 120,
   "metadata": {
    "gather": {
     "logged": 1638822367114
    },
    "jupyter": {
     "outputs_hidden": false,
     "source_hidden": false
    },
    "nteract": {
     "transient": {
      "deleting": false
     }
    }
   },
   "outputs": [],
   "source": [
    "def plot_loss(history):\n",
    "  plt.plot(history['accuracy'], label='accuracy')\n",
    "  plt.plot(history['val_accuracy'], label='val_accuracy')\n",
    "  plt.ylim([0.994, 0.996])\n",
    "  plt.xlabel('Epoch')\n",
    "  plt.ylabel('Accuracy')\n",
    "  plt.legend()\n",
    "  plt.grid(True)\n"
   ]
  },
  {
   "cell_type": "code",
   "execution_count": 121,
   "metadata": {
    "gather": {
     "logged": 1638822368071
    },
    "jupyter": {
     "outputs_hidden": false,
     "source_hidden": false
    },
    "nteract": {
     "transient": {
      "deleting": false
     }
    }
   },
   "outputs": [
    {
     "data": {
      "image/png": "[encoded data removed]",
      "text/plain": [
       "<Figure size 432x288 with 1 Axes>"
      ]
     },
     "metadata": {
      "needs_background": "light"
     },
     "output_type": "display_data"
    }
   ],
   "source": [
    "import matplotlib.pyplot as plt\n",
    "    plot_loss(history)"
   ]
  },
  {
   "cell_type": "code",
   "execution_count": 105,
   "metadata": {
    "gather": {
     "logged": 1638600853365
    },
    "jupyter": {
     "outputs_hidden": false,
     "source_hidden": false
    },
    "nteract": {
     "transient": {
      "deleting": false
     }
    }
   },
   "outputs": [
    {
     "data": {
      "text/plain": [
       "{'loss': [nan, nan, nan, nan, nan],\n",
       " 'accuracy': [0.9947675, 0.9947675, 0.9947675, 0.9947675, 0.9947675],\n",
       " 'val_loss': [nan, nan, nan, nan, nan],\n",
       " 'val_accuracy': [0.9943587, 0.9943587, 0.9943587, 0.9943587, 0.9943587],\n",
       " 'lr': [1e-05, 1e-05, 1e-05, 1e-05, 1e-05]}"
      ]
     },
     "execution_count": 105,
     "metadata": {},
     "output_type": "execute_result"
    }
   ],
   "source": [
    "history.history"
   ]
  },
  {
   "cell_type": "code",
   "execution_count": 106,
   "metadata": {
    "gather": {
     "logged": 1638600861064
    },
    "jupyter": {
     "outputs_hidden": false,
     "source_hidden": false
    },
    "nteract": {
     "transient": {
      "deleting": false
     }
    }
   },
   "outputs": [
    {
     "name": "stdout",
     "output_type": "stream",
     "text": [
      "INFO:tensorflow:Assets written to: outlier-classification/assets\n"
     ]
    }
   ],
   "source": [
    "model.save('outlier-classification')"
   ]
  },
  {
   "cell_type": "code",
   "execution_count": 108,
   "metadata": {
    "gather": {
     "logged": 1638822300870
    },
    "jupyter": {
     "outputs_hidden": false,
     "source_hidden": false
    },
    "nteract": {
     "transient": {
      "deleting": false
     }
    }
   },
   "outputs": [],
   "source": [
    "history = {'accuracy': [0.9947675, 0.9947675, 0.9947675, 0.9947675, 0.9947675],\n",
    " 'val_accuracy': [0.9943587, 0.9943587, 0.9943587, 0.9943587, 0.9943587],\n",
    " 'lr': [1e-05, 1e-05, 1e-05, 1e-05, 1e-05]}"
   ]
  },
  {
   "cell_type": "code",
   "execution_count": null,
   "metadata": {
    "jupyter": {
     "outputs_hidden": false,
     "source_hidden": false
    },
    "nteract": {
     "transient": {
      "deleting": false
     }
    }
   },
   "outputs": [],
   "source": [
    "accuracy AAA"
   ]
  },
  {
   "cell_type": "code",
   "execution_count": null,
   "metadata": {
    "jupyter": {
     "outputs_hidden": false,
     "source_hidden": false
    },
    "nteract": {
     "transient": {
      "deleting": false
     }
    }
   },
   "outputs": [],
   "source": [
    "accuracy = [0000.99]"
   ]
  }
 ],
 "metadata": {
  "kernel_info": {
   "name": "python3-azureml"
  },
  "kernelspec": {
   "display_name": "Python 3.6 - AzureML",
   "language": "python",
   "name": "python3-azureml"
  },
  "language_info": {
   "codemirror_mode": {
    "name": "ipython",
    "version": 3
   },
   "file_extension": ".py",
   "mimetype": "text/x-python",
   "name": "python",
   "nbconvert_exporter": "python",
   "pygments_lexer": "ipython3",
   "version": "3.6.9"
  },
  "microsoft": {
   "host": {
    "AzureML": {
     "notebookHasBeenCompleted": true
    }
   }
  },
  "nteract": {
   "version": "nteract-front-end@1.0.0"
  }
 },
 "nbformat": 4,
 "nbformat_minor": 2
}
