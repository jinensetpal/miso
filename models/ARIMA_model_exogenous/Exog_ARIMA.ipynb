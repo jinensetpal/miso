{
 "cells": [
  {
   "cell_type": "code",
   "execution_count": 342,
   "id": "0addad07",
   "metadata": {},
   "outputs": [],
   "source": [
    "# Import modules\n",
    "\n",
    "import numpy as np\n",
    "from statsmodels.tsa.arima.model import ARIMA\n",
    "from statsmodels.graphics.tsaplots import plot_acf, plot_pacf\n",
    "from statsmodels.tsa.stattools import adfuller\n",
    "import pandas as pd\n",
    "from random import random\n",
    "from matplotlib import pyplot as plt\n",
    "import warnings\n",
    "from sklearn.metrics import mean_squared_error\n",
    "from pdb import set_trace as keyboard"
   ]
  },
  {
   "cell_type": "code",
   "execution_count": 343,
   "id": "e16cafe7",
   "metadata": {},
   "outputs": [],
   "source": [
    "# Importing the csv file first and print a summary\n",
    "# Edit this part##################################\n",
    "State_abbrv = 'WI'\n",
    "##################################################"
   ]
  },
  {
   "cell_type": "code",
   "execution_count": 344,
   "id": "30217690",
   "metadata": {},
   "outputs": [],
   "source": [
    "# Code based on https://machinelearningmastery.com/grid-search-arima-hyperparameters-with-python/\n",
    "# evaluate an ARIMA model for a given order (p,d,q)\n",
    "def evaluate_arima_model(X, arima_order):\n",
    "    # prepare training dataset\n",
    "    train_size = int(len(X) * 0.66)\n",
    "    train, test = X[0:train_size], X[train_size:]\n",
    "    history = [x for x in train]\n",
    "    # make predictions\n",
    "    predictions = list()\n",
    "    for t in range(len(test)):\n",
    "        model = ARIMA(history, order=arima_order)\n",
    "        model_fit = model.fit()\n",
    "        #print(model_fit.summary())\n",
    "        yhat = model_fit.forecast(1,alpha=0.05)[0]\n",
    "        predictions.append(yhat)\n",
    "        history.append(test[t])\n",
    "    # calculate out of sample error\n",
    "    #keyboard()\n",
    "    rmse = np.sqrt(mean_squared_error(test, predictions))\n",
    "    return rmse\n",
    " \n",
    "# evaluate combinations of p, d and q values for an ARIMA model\n",
    "def evaluate_models(dataset, p_values, d_values, q_values):\n",
    "    dataset = dataset.astype('float32')\n",
    "    best_score, best_cfg = float(\"inf\"), None\n",
    "    for p in p_values:\n",
    "        for d in d_values:\n",
    "            for q in q_values:\n",
    "                order = (p,d,q)\n",
    "                try:\n",
    "                    rmse = evaluate_arima_model(dataset, order)\n",
    "                    if rmse < best_score:\n",
    "                        best_score, best_cfg = rmse, order\n",
    "                    print('ARIMA%s RMSE=%.3f' % (order,rmse))\n",
    "                except:\n",
    "                    continue\n",
    "    print('Best ARIMA%s RMSE=%.3f' % (best_cfg, best_score))\n",
    "    return best_cfg"
   ]
  },
  {
   "cell_type": "code",
   "execution_count": 345,
   "id": "9b2f441a",
   "metadata": {},
   "outputs": [
    {
     "name": "stdout",
     "output_type": "stream",
     "text": [
      "<class 'pandas.core.frame.DataFrame'>\n",
      "RangeIndex: 8 entries, 0 to 7\n",
      "Data columns (total 14 columns):\n",
      " #   Column                     Non-Null Count  Dtype  \n",
      "---  ------                     --------------  -----  \n",
      " 0   Unnamed: 0                 8 non-null      int64  \n",
      " 1   Unnamed: 0.1               8 non-null      int64  \n",
      " 2   Year                       8 non-null      int64  \n",
      " 3   BEV sales                  8 non-null      int64  \n",
      " 4   PHEV sales                 8 non-null      int64  \n",
      " 5   Total                      8 non-null      int64  \n",
      " 6   Gasoline Price             8 non-null      float64\n",
      " 7   Median Income              8 non-null      int64  \n",
      " 8   Population                 8 non-null      int64  \n",
      " 9   Renewable Energy Use       8 non-null      int64  \n",
      " 10  Total Energy Use           8 non-null      int64  \n",
      " 11  Transportation Energy Use  8 non-null      int64  \n",
      " 12  Stations Opened            8 non-null      float64\n",
      " 13  Lithium Price              8 non-null      int64  \n",
      "dtypes: float64(2), int64(12)\n",
      "memory usage: 1.0 KB\n"
     ]
    },
    {
     "data": {
      "text/plain": [
       "Index(['Unnamed: 0', 'Unnamed: 0.1', 'Year', 'BEV sales', 'PHEV sales',\n",
       "       'Total', 'Gasoline Price', 'Median Income', 'Population',\n",
       "       'Renewable Energy Use', 'Total Energy Use', 'Transportation Energy Use',\n",
       "       'Stations Opened', 'Lithium Price'],\n",
       "      dtype='object')"
      ]
     },
     "execution_count": 345,
     "metadata": {},
     "output_type": "execute_result"
    }
   ],
   "source": [
    "filename = './' + State_abbrv + '_EV_sales_data_final.csv'\n",
    "filename2 = './' + State_abbrv + '_Exogenous_ARIMA_prediction_data.csv'\n",
    "State_df = pd.read_csv(filename)\n",
    "State_df.info()\n",
    "State_df.head()\n",
    "State_df.keys()"
   ]
  },
  {
   "cell_type": "code",
   "execution_count": 346,
   "id": "576642fc",
   "metadata": {},
   "outputs": [],
   "source": [
    "# Cleanup columns and set date as index\n",
    "\n",
    "State_df = State_df.drop(columns=['Unnamed: 0','Unnamed: 0.1'])\n",
    "State_df['Year'] = pd.to_datetime(State_df.Year, format='%Y')\n",
    "State_df.set_index('Year',inplace=True)\n",
    "State_df.rename(columns={'Gasoline Price':'Gasoline_Price','Median Income':'Median_Income','Lithium Price':'Lithium_Price'},inplace=True)"
   ]
  },
  {
   "cell_type": "code",
   "execution_count": 347,
   "id": "de5dd18a",
   "metadata": {},
   "outputs": [
    {
     "data": {
      "text/html": [
       "<div>\n",
       "<style scoped>\n",
       "    .dataframe tbody tr th:only-of-type {\n",
       "        vertical-align: middle;\n",
       "    }\n",
       "\n",
       "    .dataframe tbody tr th {\n",
       "        vertical-align: top;\n",
       "    }\n",
       "\n",
       "    .dataframe thead th {\n",
       "        text-align: right;\n",
       "    }\n",
       "</style>\n",
       "<table border=\"1\" class=\"dataframe\">\n",
       "  <thead>\n",
       "    <tr style=\"text-align: right;\">\n",
       "      <th></th>\n",
       "      <th>BEV sales</th>\n",
       "      <th>PHEV sales</th>\n",
       "      <th>Total</th>\n",
       "      <th>Gasoline_Price</th>\n",
       "      <th>Median_Income</th>\n",
       "      <th>Population</th>\n",
       "      <th>Renewable Energy Use</th>\n",
       "      <th>Total Energy Use</th>\n",
       "      <th>Transportation Energy Use</th>\n",
       "      <th>Stations Opened</th>\n",
       "      <th>Lithium_Price</th>\n",
       "    </tr>\n",
       "    <tr>\n",
       "      <th>Year</th>\n",
       "      <th></th>\n",
       "      <th></th>\n",
       "      <th></th>\n",
       "      <th></th>\n",
       "      <th></th>\n",
       "      <th></th>\n",
       "      <th></th>\n",
       "      <th></th>\n",
       "      <th></th>\n",
       "      <th></th>\n",
       "      <th></th>\n",
       "    </tr>\n",
       "  </thead>\n",
       "  <tbody>\n",
       "    <tr>\n",
       "      <th>2011-01-01</th>\n",
       "      <td>2</td>\n",
       "      <td>91</td>\n",
       "      <td>93</td>\n",
       "      <td>3.496</td>\n",
       "      <td>31766</td>\n",
       "      <td>5705840</td>\n",
       "      <td>208301</td>\n",
       "      <td>68612</td>\n",
       "      <td>420456</td>\n",
       "      <td>27.0</td>\n",
       "      <td>946</td>\n",
       "    </tr>\n",
       "    <tr>\n",
       "      <th>2012-01-01</th>\n",
       "      <td>98</td>\n",
       "      <td>538</td>\n",
       "      <td>636</td>\n",
       "      <td>3.566</td>\n",
       "      <td>33308</td>\n",
       "      <td>5720825</td>\n",
       "      <td>199588</td>\n",
       "      <td>68820</td>\n",
       "      <td>418959</td>\n",
       "      <td>45.0</td>\n",
       "      <td>744</td>\n",
       "    </tr>\n",
       "    <tr>\n",
       "      <th>2013-01-01</th>\n",
       "      <td>207</td>\n",
       "      <td>416</td>\n",
       "      <td>623</td>\n",
       "      <td>3.468</td>\n",
       "      <td>31133</td>\n",
       "      <td>5738012</td>\n",
       "      <td>206192</td>\n",
       "      <td>69124</td>\n",
       "      <td>416071</td>\n",
       "      <td>15.0</td>\n",
       "      <td>684</td>\n",
       "    </tr>\n",
       "    <tr>\n",
       "      <th>2014-01-01</th>\n",
       "      <td>191</td>\n",
       "      <td>435</td>\n",
       "      <td>626</td>\n",
       "      <td>3.303</td>\n",
       "      <td>30711</td>\n",
       "      <td>5753199</td>\n",
       "      <td>216236</td>\n",
       "      <td>69495</td>\n",
       "      <td>445797</td>\n",
       "      <td>38.0</td>\n",
       "      <td>606</td>\n",
       "    </tr>\n",
       "    <tr>\n",
       "      <th>2015-01-01</th>\n",
       "      <td>693</td>\n",
       "      <td>290</td>\n",
       "      <td>983</td>\n",
       "      <td>2.339</td>\n",
       "      <td>29123</td>\n",
       "      <td>5762927</td>\n",
       "      <td>223327</td>\n",
       "      <td>68699</td>\n",
       "      <td>440631</td>\n",
       "      <td>50.0</td>\n",
       "      <td>393</td>\n",
       "    </tr>\n",
       "  </tbody>\n",
       "</table>\n",
       "</div>"
      ],
      "text/plain": [
       "            BEV sales  PHEV sales  Total  Gasoline_Price  Median_Income  \\\n",
       "Year                                                                      \n",
       "2011-01-01          2          91     93           3.496          31766   \n",
       "2012-01-01         98         538    636           3.566          33308   \n",
       "2013-01-01        207         416    623           3.468          31133   \n",
       "2014-01-01        191         435    626           3.303          30711   \n",
       "2015-01-01        693         290    983           2.339          29123   \n",
       "\n",
       "            Population  Renewable Energy Use  Total Energy Use  \\\n",
       "Year                                                             \n",
       "2011-01-01     5705840                208301             68612   \n",
       "2012-01-01     5720825                199588             68820   \n",
       "2013-01-01     5738012                206192             69124   \n",
       "2014-01-01     5753199                216236             69495   \n",
       "2015-01-01     5762927                223327             68699   \n",
       "\n",
       "            Transportation Energy Use  Stations Opened  Lithium_Price  \n",
       "Year                                                                   \n",
       "2011-01-01                     420456             27.0            946  \n",
       "2012-01-01                     418959             45.0            744  \n",
       "2013-01-01                     416071             15.0            684  \n",
       "2014-01-01                     445797             38.0            606  \n",
       "2015-01-01                     440631             50.0            393  "
      ]
     },
     "execution_count": 347,
     "metadata": {},
     "output_type": "execute_result"
    }
   ],
   "source": [
    "State_df.head()"
   ]
  },
  {
   "cell_type": "markdown",
   "id": "c2ac65ad",
   "metadata": {},
   "source": [
    "# Gasoline price"
   ]
  },
  {
   "cell_type": "code",
   "execution_count": 348,
   "id": "1d5b0677",
   "metadata": {
    "scrolled": true
   },
   "outputs": [
    {
     "data": {
      "text/plain": [
       "Text(0.5, 0, 'Year')"
      ]
     },
     "execution_count": 348,
     "metadata": {},
     "output_type": "execute_result"
    },
    {
     "data": {
      "image/png": "[encoded data removed]",
      "text/plain": [
       "<Figure size 432x288 with 1 Axes>"
      ]
     },
     "metadata": {
      "needs_background": "light"
     },
     "output_type": "display_data"
    }
   ],
   "source": [
    "# Plot the time series\n",
    "\n",
    "plt.figure(0)\n",
    "plt.plot(State_df.Gasoline_Price)\n",
    "plt.title('Gasoline Price over time')\n",
    "plt.ylabel('Price')\n",
    "plt.xlabel('Year')"
   ]
  },
  {
   "cell_type": "code",
   "execution_count": 349,
   "id": "8cb94c55",
   "metadata": {},
   "outputs": [
    {
     "data": {
      "image/png": "[encoded data removed]",
      "text/plain": [
       "<Figure size 432x288 with 1 Axes>"
      ]
     },
     "metadata": {
      "needs_background": "light"
     },
     "output_type": "display_data"
    }
   ],
   "source": [
    "# Plot ACF\n",
    "# Anything within the blue bars is statistically insignificant\n",
    "\n",
    "acf_plot = plot_acf(State_df.Total)"
   ]
  },
  {
   "cell_type": "code",
   "execution_count": 350,
   "id": "a662a58a",
   "metadata": {},
   "outputs": [
    {
     "data": {
      "image/png": "[encoded data removed]",
      "text/plain": [
       "<Figure size 432x288 with 1 Axes>"
      ]
     },
     "metadata": {
      "needs_background": "light"
     },
     "output_type": "display_data"
    }
   ],
   "source": [
    "# Plot PACF\n",
    "# Anything within the blue bars is statistically insignificant\n",
    "\n",
    "pacf_plot = plot_acf(State_df.Gasoline_Price)"
   ]
  },
  {
   "cell_type": "code",
   "execution_count": 351,
   "id": "6d11f23b",
   "metadata": {},
   "outputs": [
    {
     "name": "stdout",
     "output_type": "stream",
     "text": [
      "ADF Statistic: -1.014330\n",
      "p-value: 0.748002\n"
     ]
    }
   ],
   "source": [
    "# Perform ADF test to check if time series is stationary\n",
    "result = adfuller(State_df['Gasoline_Price'])\n",
    "print('ADF Statistic: %f' % result[0])\n",
    "print('p-value: %f' % result[1])"
   ]
  },
  {
   "cell_type": "code",
   "execution_count": 352,
   "id": "6c1b4f2f",
   "metadata": {},
   "outputs": [
    {
     "name": "stdout",
     "output_type": "stream",
     "text": [
      "ARIMA(0, 0, 0) RMSE=0.823\n",
      "ARIMA(0, 0, 1) RMSE=0.464\n",
      "ARIMA(0, 0, 2) RMSE=0.604\n",
      "ARIMA(0, 1, 0) RMSE=0.275\n",
      "ARIMA(0, 1, 1) RMSE=0.183\n",
      "ARIMA(0, 1, 2) RMSE=0.365\n",
      "ARIMA(0, 2, 0) RMSE=0.501\n",
      "ARIMA(0, 2, 1) RMSE=0.656\n",
      "ARIMA(0, 2, 2) RMSE=0.873\n",
      "ARIMA(1, 0, 0) RMSE=0.482\n",
      "ARIMA(1, 0, 1) RMSE=0.403\n",
      "ARIMA(1, 0, 2) RMSE=0.462\n",
      "ARIMA(1, 1, 0) RMSE=0.275\n",
      "ARIMA(1, 1, 1) RMSE=0.298\n",
      "ARIMA(1, 1, 2) RMSE=0.283\n",
      "ARIMA(1, 2, 0) RMSE=0.734\n",
      "ARIMA(1, 2, 1) RMSE=0.759\n",
      "ARIMA(1, 2, 2) RMSE=0.742\n",
      "ARIMA(2, 0, 0) RMSE=0.217\n",
      "ARIMA(2, 0, 1) RMSE=0.222\n",
      "ARIMA(2, 0, 2) RMSE=0.271\n",
      "ARIMA(2, 1, 0) RMSE=0.298\n",
      "ARIMA(2, 1, 1) RMSE=0.334\n",
      "ARIMA(2, 1, 2) RMSE=0.313\n",
      "ARIMA(2, 2, 0) RMSE=0.763\n",
      "ARIMA(2, 2, 1) RMSE=0.731\n",
      "ARIMA(2, 2, 2) RMSE=0.706\n",
      "Best ARIMA(0, 1, 1) RMSE=0.183\n"
     ]
    }
   ],
   "source": [
    "# Find optimal (p,d,q)\n",
    "p_values = range(0, 3)\n",
    "d_values = range(0, 3)\n",
    "q_values = range(0, 3)\n",
    "\n",
    "warnings.filterwarnings(\"ignore\")\n",
    "best_cfg_GP = evaluate_models(State_df['Gasoline_Price'].values, p_values, d_values, q_values)"
   ]
  },
  {
   "cell_type": "code",
   "execution_count": 353,
   "id": "49c1fe9a",
   "metadata": {},
   "outputs": [
    {
     "name": "stdout",
     "output_type": "stream",
     "text": [
      "                               SARIMAX Results                                \n",
      "==============================================================================\n",
      "Dep. Variable:         Gasoline_Price   No. Observations:                    8\n",
      "Model:                 ARIMA(0, 1, 1)   Log Likelihood                  -3.091\n",
      "Date:                Fri, 01 Apr 2022   AIC                             10.181\n",
      "Time:                        16:27:06   BIC                             10.073\n",
      "Sample:                    01-01-2011   HQIC                             8.844\n",
      "                         - 01-01-2018                                         \n",
      "Covariance Type:                  opg                                         \n",
      "==============================================================================\n",
      "                 coef    std err          z      P>|z|      [0.025      0.975]\n",
      "------------------------------------------------------------------------------\n",
      "ma.L1          0.4319      0.930      0.465      0.642      -1.390       2.254\n",
      "sigma2         0.1375      0.055      2.508      0.012       0.030       0.245\n",
      "===================================================================================\n",
      "Ljung-Box (L1) (Q):                   0.00   Jarque-Bera (JB):                 3.30\n",
      "Prob(Q):                              0.99   Prob(JB):                         0.19\n",
      "Heteroskedasticity (H):               4.28   Skew:                            -1.58\n",
      "Prob(H) (two-sided):                  0.38   Kurtosis:                         4.15\n",
      "===================================================================================\n",
      "\n",
      "Warnings:\n",
      "[1] Covariance matrix calculated using the outer product of gradients (complex-step).\n"
     ]
    }
   ],
   "source": [
    "p = best_cfg_GP[0]\n",
    "d = best_cfg_GP[1]\n",
    "q = best_cfg_GP[2]\n",
    "#print(state_df['Total'].size)\n",
    "#print(state_df['Gasoline Price'].size)\n",
    "ARIMA_GP_model = ARIMA(State_df['Gasoline_Price'],order=(p,d,q))\n",
    "ARIMA_GP_model_fit = ARIMA_GP_model.fit()\n",
    "print(ARIMA_GP_model_fit.summary())"
   ]
  },
  {
   "cell_type": "code",
   "execution_count": 354,
   "id": "f5cc6686",
   "metadata": {},
   "outputs": [],
   "source": [
    "# Forecast\n",
    "pred_GP = ARIMA_GP_model_fit.forecast(15, alpha=0.05)  # 95% conf"
   ]
  },
  {
   "cell_type": "code",
   "execution_count": 355,
   "id": "b30286f2",
   "metadata": {},
   "outputs": [],
   "source": [
    "Exog_df = pd.DataFrame(pred_GP)\n",
    "Exog_df.rename(columns={'predicted_mean':'Gasoline_Price_predicted'},inplace=True)"
   ]
  },
  {
   "cell_type": "markdown",
   "id": "f5b6644d",
   "metadata": {},
   "source": [
    "# Median Household Income"
   ]
  },
  {
   "cell_type": "code",
   "execution_count": 356,
   "id": "441aa209",
   "metadata": {
    "scrolled": true
   },
   "outputs": [
    {
     "data": {
      "text/plain": [
       "Text(0.5, 0, 'Year')"
      ]
     },
     "execution_count": 356,
     "metadata": {},
     "output_type": "execute_result"
    },
    {
     "data": {
      "image/png": "[encoded data removed]",
      "text/plain": [
       "<Figure size 432x288 with 1 Axes>"
      ]
     },
     "metadata": {
      "needs_background": "light"
     },
     "output_type": "display_data"
    }
   ],
   "source": [
    "# Plot the time series\n",
    "\n",
    "plt.figure(0)\n",
    "plt.plot(State_df.Median_Income)\n",
    "plt.title('Median Household Income over time')\n",
    "plt.ylabel('Income')\n",
    "plt.xlabel('Year')"
   ]
  },
  {
   "cell_type": "code",
   "execution_count": 357,
   "id": "dfb1f686",
   "metadata": {},
   "outputs": [
    {
     "data": {
      "image/png": "[encoded data removed]",
      "text/plain": [
       "<Figure size 432x288 with 1 Axes>"
      ]
     },
     "metadata": {
      "needs_background": "light"
     },
     "output_type": "display_data"
    }
   ],
   "source": [
    "# Plot ACF\n",
    "# Anything within the blue bars is statistically insignificant\n",
    "\n",
    "acf_plot = plot_acf(State_df.Median_Income)"
   ]
  },
  {
   "cell_type": "code",
   "execution_count": 358,
   "id": "db233313",
   "metadata": {},
   "outputs": [
    {
     "data": {
      "image/png": "[encoded data removed]",
      "text/plain": [
       "<Figure size 432x288 with 1 Axes>"
      ]
     },
     "metadata": {
      "needs_background": "light"
     },
     "output_type": "display_data"
    }
   ],
   "source": [
    "# Plot PACF\n",
    "# Anything within the blue bars is statistically insignificant\n",
    "\n",
    "pacf_plot = plot_acf(State_df.Median_Income)"
   ]
  },
  {
   "cell_type": "code",
   "execution_count": 359,
   "id": "7e899a1f",
   "metadata": {},
   "outputs": [
    {
     "name": "stdout",
     "output_type": "stream",
     "text": [
      "ADF Statistic: 0.778414\n",
      "p-value: 0.991280\n"
     ]
    }
   ],
   "source": [
    "# Perform ADF test to check if time series is stationary\n",
    "result = adfuller(State_df['Median_Income'])\n",
    "print('ADF Statistic: %f' % result[0])\n",
    "print('p-value: %f' % result[1])"
   ]
  },
  {
   "cell_type": "code",
   "execution_count": 360,
   "id": "25324467",
   "metadata": {},
   "outputs": [
    {
     "name": "stdout",
     "output_type": "stream",
     "text": [
      "ARIMA(0, 0, 0) RMSE=3576.538\n",
      "ARIMA(0, 0, 1) RMSE=2887.794\n",
      "ARIMA(0, 0, 2) RMSE=2218.079\n",
      "ARIMA(0, 1, 0) RMSE=1869.622\n",
      "ARIMA(0, 1, 1) RMSE=1918.472\n",
      "ARIMA(0, 1, 2) RMSE=2155.339\n",
      "ARIMA(0, 2, 0) RMSE=3066.804\n",
      "ARIMA(0, 2, 1) RMSE=3484.815\n",
      "ARIMA(0, 2, 2) RMSE=3402.277\n",
      "ARIMA(1, 0, 0) RMSE=2420.149\n",
      "ARIMA(1, 0, 1) RMSE=2628.406\n",
      "ARIMA(1, 0, 2) RMSE=2593.361\n",
      "ARIMA(1, 1, 0) RMSE=1901.100\n",
      "ARIMA(1, 1, 1) RMSE=1408.426\n",
      "ARIMA(1, 1, 2) RMSE=2191.139\n",
      "ARIMA(1, 2, 0) RMSE=3396.225\n",
      "ARIMA(1, 2, 1) RMSE=2270.916\n",
      "ARIMA(1, 2, 2) RMSE=2827.618\n",
      "ARIMA(2, 0, 0) RMSE=2799.787\n",
      "ARIMA(2, 0, 1) RMSE=3392.570\n",
      "ARIMA(2, 0, 2) RMSE=2725.888\n",
      "ARIMA(2, 1, 0) RMSE=2062.326\n",
      "ARIMA(2, 1, 1) RMSE=1215.547\n",
      "ARIMA(2, 1, 2) RMSE=1852.847\n",
      "ARIMA(2, 2, 0) RMSE=3275.139\n",
      "ARIMA(2, 2, 2) RMSE=2268.902\n",
      "Best ARIMA(2, 1, 1) RMSE=1215.547\n"
     ]
    }
   ],
   "source": [
    "# Find best (p,d,q)\n",
    "\n",
    "warnings.filterwarnings(\"ignore\")\n",
    "best_cfg_MI = evaluate_models(State_df['Median_Income'].values, p_values, d_values, q_values)"
   ]
  },
  {
   "cell_type": "code",
   "execution_count": 361,
   "id": "2f392e92",
   "metadata": {},
   "outputs": [
    {
     "name": "stdout",
     "output_type": "stream",
     "text": [
      "                               SARIMAX Results                                \n",
      "==============================================================================\n",
      "Dep. Variable:          Median_Income   No. Observations:                    8\n",
      "Model:                 ARIMA(2, 1, 1)   Log Likelihood                 -60.030\n",
      "Date:                Fri, 01 Apr 2022   AIC                            128.060\n",
      "Time:                        16:27:21   BIC                            127.844\n",
      "Sample:                    01-01-2011   HQIC                           125.386\n",
      "                         - 01-01-2018                                         \n",
      "Covariance Type:                  opg                                         \n",
      "==============================================================================\n",
      "                 coef    std err          z      P>|z|      [0.025      0.975]\n",
      "------------------------------------------------------------------------------\n",
      "ar.L1          0.9869      0.184      5.376      0.000       0.627       1.347\n",
      "ar.L2         -0.1126      0.134     -0.840      0.401      -0.375       0.150\n",
      "ma.L1         -1.0000      0.788     -1.268      0.205      -2.545       0.545\n",
      "sigma2      1.621e+06   4.86e-07   3.33e+12      0.000    1.62e+06    1.62e+06\n",
      "===================================================================================\n",
      "Ljung-Box (L1) (Q):                   5.99   Jarque-Bera (JB):                 0.71\n",
      "Prob(Q):                              0.01   Prob(JB):                         0.70\n",
      "Heteroskedasticity (H):               5.92   Skew:                            -0.69\n",
      "Prob(H) (two-sided):                  0.29   Kurtosis:                         2.27\n",
      "===================================================================================\n",
      "\n",
      "Warnings:\n",
      "[1] Covariance matrix calculated using the outer product of gradients (complex-step).\n",
      "[2] Covariance matrix is singular or near-singular, with condition number 3.57e+28. Standard errors may be unstable.\n"
     ]
    }
   ],
   "source": [
    "p = best_cfg_MI[0]\n",
    "d = best_cfg_MI[1]\n",
    "q = best_cfg_MI[2]\n",
    "\n",
    "ARIMA_MI_model = ARIMA(State_df['Median_Income'],order=(p,d,q))\n",
    "ARIMA_MI_model_fit = ARIMA_MI_model.fit()\n",
    "print(ARIMA_MI_model_fit.summary())"
   ]
  },
  {
   "cell_type": "code",
   "execution_count": 362,
   "id": "af9e9455",
   "metadata": {},
   "outputs": [],
   "source": [
    "# Forecast\n",
    "pred_MI = ARIMA_MI_model_fit.forecast(15, alpha=0.05)  # 95% conf"
   ]
  },
  {
   "cell_type": "code",
   "execution_count": 363,
   "id": "9f3602ef",
   "metadata": {},
   "outputs": [
    {
     "data": {
      "text/html": [
       "<div>\n",
       "<style scoped>\n",
       "    .dataframe tbody tr th:only-of-type {\n",
       "        vertical-align: middle;\n",
       "    }\n",
       "\n",
       "    .dataframe tbody tr th {\n",
       "        vertical-align: top;\n",
       "    }\n",
       "\n",
       "    .dataframe thead th {\n",
       "        text-align: right;\n",
       "    }\n",
       "</style>\n",
       "<table border=\"1\" class=\"dataframe\">\n",
       "  <thead>\n",
       "    <tr style=\"text-align: right;\">\n",
       "      <th></th>\n",
       "      <th>Gasoline_Price_predicted</th>\n",
       "      <th>Median_Income_predicted</th>\n",
       "    </tr>\n",
       "  </thead>\n",
       "  <tbody>\n",
       "    <tr>\n",
       "      <th>2019-01-01</th>\n",
       "      <td>2.68054</td>\n",
       "      <td>25865.984046</td>\n",
       "    </tr>\n",
       "    <tr>\n",
       "      <th>2020-01-01</th>\n",
       "      <td>2.68054</td>\n",
       "      <td>25302.510800</td>\n",
       "    </tr>\n",
       "    <tr>\n",
       "      <th>2021-01-01</th>\n",
       "      <td>2.68054</td>\n",
       "      <td>24809.962845</td>\n",
       "    </tr>\n",
       "    <tr>\n",
       "      <th>2022-01-01</th>\n",
       "      <td>2.68054</td>\n",
       "      <td>24387.346929</td>\n",
       "    </tr>\n",
       "    <tr>\n",
       "      <th>2023-01-01</th>\n",
       "      <td>2.68054</td>\n",
       "      <td>24025.756316</td>\n",
       "    </tr>\n",
       "  </tbody>\n",
       "</table>\n",
       "</div>"
      ],
      "text/plain": [
       "            Gasoline_Price_predicted  Median_Income_predicted\n",
       "2019-01-01                   2.68054             25865.984046\n",
       "2020-01-01                   2.68054             25302.510800\n",
       "2021-01-01                   2.68054             24809.962845\n",
       "2022-01-01                   2.68054             24387.346929\n",
       "2023-01-01                   2.68054             24025.756316"
      ]
     },
     "execution_count": 363,
     "metadata": {},
     "output_type": "execute_result"
    }
   ],
   "source": [
    "Exog_df = pd.concat([Exog_df,pd.DataFrame(pred_MI)], axis=1)\n",
    "Exog_df.rename(columns={'predicted_mean':'Median_Income_predicted'},inplace=True)\n",
    "Exog_df.head()"
   ]
  },
  {
   "cell_type": "markdown",
   "id": "2243dc68",
   "metadata": {},
   "source": [
    "# Lithium Price"
   ]
  },
  {
   "cell_type": "code",
   "execution_count": 364,
   "id": "97cb72c3",
   "metadata": {
    "scrolled": true
   },
   "outputs": [
    {
     "data": {
      "text/plain": [
       "Text(0.5, 0, 'Year')"
      ]
     },
     "execution_count": 364,
     "metadata": {},
     "output_type": "execute_result"
    },
    {
     "data": {
      "image/png": "[encoded data removed]",
      "text/plain": [
       "<Figure size 432x288 with 1 Axes>"
      ]
     },
     "metadata": {
      "needs_background": "light"
     },
     "output_type": "display_data"
    }
   ],
   "source": [
    "# Plot the time series\n",
    "\n",
    "plt.figure(0)\n",
    "plt.plot(State_df.Lithium_Price)\n",
    "plt.title('Lithium Price over time')\n",
    "plt.ylabel('Price')\n",
    "plt.xlabel('Year')"
   ]
  },
  {
   "cell_type": "code",
   "execution_count": 365,
   "id": "dc470f7b",
   "metadata": {},
   "outputs": [
    {
     "data": {
      "image/png": "[encoded data removed]",
      "text/plain": [
       "<Figure size 432x288 with 1 Axes>"
      ]
     },
     "metadata": {
      "needs_background": "light"
     },
     "output_type": "display_data"
    }
   ],
   "source": [
    "# Plot ACF\n",
    "# Anything within the blue bars is statistically insignificant\n",
    "\n",
    "acf_plot = plot_acf(State_df.Lithium_Price)"
   ]
  },
  {
   "cell_type": "code",
   "execution_count": 366,
   "id": "4c00fede",
   "metadata": {},
   "outputs": [
    {
     "data": {
      "image/png": "[encoded data removed]",
      "text/plain": [
       "<Figure size 432x288 with 1 Axes>"
      ]
     },
     "metadata": {
      "needs_background": "light"
     },
     "output_type": "display_data"
    }
   ],
   "source": [
    "# Plot PACF\n",
    "# Anything within the blue bars is statistically insignificant\n",
    "\n",
    "pacf_plot = plot_acf(State_df.Lithium_Price)"
   ]
  },
  {
   "cell_type": "code",
   "execution_count": 367,
   "id": "2e78b516",
   "metadata": {},
   "outputs": [
    {
     "name": "stdout",
     "output_type": "stream",
     "text": [
      "ADF Statistic: -1.563256\n",
      "p-value: 0.502020\n"
     ]
    }
   ],
   "source": [
    "# Perform ADF test to check if time series is stationary\n",
    "result = adfuller(State_df['Lithium_Price'])\n",
    "print('ADF Statistic: %f' % result[0])\n",
    "print('p-value: %f' % result[1])"
   ]
  },
  {
   "cell_type": "code",
   "execution_count": 368,
   "id": "4cf54db0",
   "metadata": {},
   "outputs": [
    {
     "name": "stdout",
     "output_type": "stream",
     "text": [
      "ARIMA(0, 0, 0) RMSE=377.187\n",
      "ARIMA(0, 0, 1) RMSE=216.340\n",
      "ARIMA(0, 0, 2) RMSE=137.244\n",
      "ARIMA(0, 1, 0) RMSE=72.429\n",
      "ARIMA(0, 1, 1) RMSE=55.119\n",
      "ARIMA(0, 1, 2) RMSE=80.052\n",
      "ARIMA(0, 2, 0) RMSE=73.788\n",
      "ARIMA(0, 2, 1) RMSE=60.008\n",
      "ARIMA(0, 2, 2) RMSE=91.748\n",
      "ARIMA(1, 0, 0) RMSE=130.641\n",
      "ARIMA(1, 0, 1) RMSE=75.847\n",
      "ARIMA(1, 0, 2) RMSE=106.379\n",
      "ARIMA(1, 1, 0) RMSE=43.163\n",
      "ARIMA(1, 1, 1) RMSE=92.764\n",
      "ARIMA(1, 1, 2) RMSE=90.190\n",
      "ARIMA(1, 2, 0) RMSE=77.513\n",
      "ARIMA(1, 2, 1) RMSE=46.740\n",
      "ARIMA(1, 2, 2) RMSE=76.585\n",
      "ARIMA(2, 0, 0) RMSE=60.136\n",
      "ARIMA(2, 0, 1) RMSE=175.554\n",
      "ARIMA(2, 0, 2) RMSE=59.522\n",
      "ARIMA(2, 1, 0) RMSE=46.176\n",
      "ARIMA(2, 1, 1) RMSE=72.065\n",
      "ARIMA(2, 1, 2) RMSE=82.292\n",
      "ARIMA(2, 2, 0) RMSE=103.044\n",
      "ARIMA(2, 2, 1) RMSE=90.805\n",
      "ARIMA(2, 2, 2) RMSE=107.349\n",
      "Best ARIMA(1, 1, 0) RMSE=43.163\n"
     ]
    }
   ],
   "source": [
    "# Find best (p,d,q)\n",
    "\n",
    "warnings.filterwarnings(\"ignore\")\n",
    "best_cfg_LI = evaluate_models(State_df['Lithium_Price'].values, p_values, d_values, q_values)"
   ]
  },
  {
   "cell_type": "code",
   "execution_count": 369,
   "id": "737d5715",
   "metadata": {},
   "outputs": [
    {
     "name": "stdout",
     "output_type": "stream",
     "text": [
      "                               SARIMAX Results                                \n",
      "==============================================================================\n",
      "Dep. Variable:          Lithium_Price   No. Observations:                    8\n",
      "Model:                 ARIMA(1, 1, 0)   Log Likelihood                 -41.958\n",
      "Date:                Fri, 01 Apr 2022   AIC                             87.916\n",
      "Time:                        16:27:38   BIC                             87.808\n",
      "Sample:                    01-01-2011   HQIC                            86.579\n",
      "                         - 01-01-2018                                         \n",
      "Covariance Type:                  opg                                         \n",
      "==============================================================================\n",
      "                 coef    std err          z      P>|z|      [0.025      0.975]\n",
      "------------------------------------------------------------------------------\n",
      "ar.L1          0.7125      0.357      1.993      0.046       0.012       1.413\n",
      "sigma2      8167.6472   6864.981      1.190      0.234   -5287.469    2.16e+04\n",
      "===================================================================================\n",
      "Ljung-Box (L1) (Q):                   1.87   Jarque-Bera (JB):                 0.64\n",
      "Prob(Q):                              0.17   Prob(JB):                         0.73\n",
      "Heteroskedasticity (H):               0.01   Skew:                            -0.38\n",
      "Prob(H) (two-sided):                  0.02   Kurtosis:                         1.73\n",
      "===================================================================================\n",
      "\n",
      "Warnings:\n",
      "[1] Covariance matrix calculated using the outer product of gradients (complex-step).\n"
     ]
    }
   ],
   "source": [
    "p = best_cfg_LI[0]\n",
    "d = best_cfg_LI[1]\n",
    "q = best_cfg_LI[2]\n",
    "\n",
    "ARIMA_LP_model = ARIMA(State_df['Lithium_Price'],order=(p,d,q))\n",
    "ARIMA_LP_model_fit = ARIMA_LP_model.fit()\n",
    "print(ARIMA_LP_model_fit.summary())"
   ]
  },
  {
   "cell_type": "code",
   "execution_count": 370,
   "id": "633c0d4f",
   "metadata": {},
   "outputs": [],
   "source": [
    "# Forecast\n",
    "pred_LP = ARIMA_LP_model_fit.forecast(15, alpha=0.05)  # 95% conf"
   ]
  },
  {
   "cell_type": "code",
   "execution_count": 371,
   "id": "7e76f751",
   "metadata": {},
   "outputs": [
    {
     "data": {
      "text/html": [
       "<div>\n",
       "<style scoped>\n",
       "    .dataframe tbody tr th:only-of-type {\n",
       "        vertical-align: middle;\n",
       "    }\n",
       "\n",
       "    .dataframe tbody tr th {\n",
       "        vertical-align: top;\n",
       "    }\n",
       "\n",
       "    .dataframe thead th {\n",
       "        text-align: right;\n",
       "    }\n",
       "</style>\n",
       "<table border=\"1\" class=\"dataframe\">\n",
       "  <thead>\n",
       "    <tr style=\"text-align: right;\">\n",
       "      <th></th>\n",
       "      <th>Gasoline_Price_predicted</th>\n",
       "      <th>Median_Income_predicted</th>\n",
       "      <th>Lithium_Price_predicted</th>\n",
       "    </tr>\n",
       "  </thead>\n",
       "  <tbody>\n",
       "    <tr>\n",
       "      <th>2019-01-01</th>\n",
       "      <td>2.68054</td>\n",
       "      <td>25865.984046</td>\n",
       "      <td>155.785845</td>\n",
       "    </tr>\n",
       "    <tr>\n",
       "      <th>2020-01-01</th>\n",
       "      <td>2.68054</td>\n",
       "      <td>25302.510800</td>\n",
       "      <td>134.969580</td>\n",
       "    </tr>\n",
       "    <tr>\n",
       "      <th>2021-01-01</th>\n",
       "      <td>2.68054</td>\n",
       "      <td>24809.962845</td>\n",
       "      <td>120.137152</td>\n",
       "    </tr>\n",
       "    <tr>\n",
       "      <th>2022-01-01</th>\n",
       "      <td>2.68054</td>\n",
       "      <td>24387.346929</td>\n",
       "      <td>109.568447</td>\n",
       "    </tr>\n",
       "    <tr>\n",
       "      <th>2023-01-01</th>\n",
       "      <td>2.68054</td>\n",
       "      <td>24025.756316</td>\n",
       "      <td>102.037819</td>\n",
       "    </tr>\n",
       "  </tbody>\n",
       "</table>\n",
       "</div>"
      ],
      "text/plain": [
       "            Gasoline_Price_predicted  Median_Income_predicted  \\\n",
       "2019-01-01                   2.68054             25865.984046   \n",
       "2020-01-01                   2.68054             25302.510800   \n",
       "2021-01-01                   2.68054             24809.962845   \n",
       "2022-01-01                   2.68054             24387.346929   \n",
       "2023-01-01                   2.68054             24025.756316   \n",
       "\n",
       "            Lithium_Price_predicted  \n",
       "2019-01-01               155.785845  \n",
       "2020-01-01               134.969580  \n",
       "2021-01-01               120.137152  \n",
       "2022-01-01               109.568447  \n",
       "2023-01-01               102.037819  "
      ]
     },
     "execution_count": 371,
     "metadata": {},
     "output_type": "execute_result"
    }
   ],
   "source": [
    "Exog_df = pd.concat([Exog_df,pd.DataFrame(pred_LP)], axis=1)\n",
    "Exog_df.rename(columns={'predicted_mean':'Lithium_Price_predicted'},inplace=True)\n",
    "Exog_df.head()"
   ]
  },
  {
   "cell_type": "code",
   "execution_count": 372,
   "id": "e132c6b3",
   "metadata": {},
   "outputs": [],
   "source": [
    "Exog_df.to_csv(filename2)"
   ]
  }
 ],
 "metadata": {
  "kernelspec": {
   "display_name": "Python 3 (ipykernel)",
   "language": "python",
   "name": "python3"
  },
  "language_info": {
   "codemirror_mode": {
    "name": "ipython",
    "version": 3
   },
   "file_extension": ".py",
   "mimetype": "text/x-python",
   "name": "python",
   "nbconvert_exporter": "python",
   "pygments_lexer": "ipython3",
   "version": "3.8.5"
  }
 },
 "nbformat": 4,
 "nbformat_minor": 5
}
