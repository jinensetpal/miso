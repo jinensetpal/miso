{
 "cells": [
  {
   "cell_type": "code",
   "execution_count": 360,
   "id": "e6789b8a",
   "metadata": {},
   "outputs": [],
   "source": [
    "# Import modules\n",
    "\n",
    "import numpy as np\n",
    "from statsmodels.tsa.arima.model import ARIMA\n",
    "from statsmodels.graphics.tsaplots import plot_acf, plot_pacf\n",
    "from statsmodels.tsa.stattools import adfuller\n",
    "import pandas as pd\n",
    "from random import random\n",
    "from matplotlib import pyplot as plt\n",
    "import warnings\n",
    "from sklearn.metrics import mean_squared_error\n",
    "from pdb import set_trace as keyboard"
   ]
  },
  {
   "cell_type": "code",
   "execution_count": 361,
   "id": "93ee97e4",
   "metadata": {},
   "outputs": [],
   "source": [
    "# Importing the csv file first and print a summary\n",
    "# Edit this part##################################\n",
    "State_abbrv = 'WI'\n",
    "##################################################"
   ]
  },
  {
   "cell_type": "code",
   "execution_count": 362,
   "id": "7be1290d",
   "metadata": {},
   "outputs": [],
   "source": [
    "# Code based on https://machinelearningmastery.com/grid-search-arima-hyperparameters-with-python/\n",
    "# evaluate an ARIMA model for a given order (p,d,q)\n",
    "def evaluate_arima_model(X, arima_order, exogenous):\n",
    "    # prepare training dataset\n",
    "    train_size = int(len(X) * 0.66)\n",
    "    train, test = X[0:train_size], X[train_size:]\n",
    "    train_eg, test_eg = exogenous[0:train_size,:], exogenous[train_size:,:]\n",
    "    history = [x for x in train]\n",
    "    exogen = [y for y in train_eg]\n",
    "    # make predictions\n",
    "    predictions = list()\n",
    "    for t in range(len(test)):\n",
    "        model = ARIMA(history, order=arima_order, exog=exogen)\n",
    "        model_fit = model.fit()\n",
    "        #print(model_fit.summary())\n",
    "        yhat = model_fit.forecast(1,alpha=0.05,exog=test_eg[t,:])[0]\n",
    "        predictions.append(yhat)\n",
    "        history.append(test[t])\n",
    "        exogen.append(test_eg[t,:])\n",
    "    # calculate out of sample error\n",
    "    rmse = np.sqrt(mean_squared_error(test, predictions))\n",
    "    return rmse\n",
    " \n",
    "# evaluate combinations of p, d and q values for an ARIMA model\n",
    "def evaluate_models(dataset, p_values, d_values, q_values, exogenous):\n",
    "    dataset = dataset.astype('float32')\n",
    "    best_score, best_cfg = float(\"inf\"), None\n",
    "    for p in p_values:\n",
    "        for d in d_values:\n",
    "            for q in q_values:\n",
    "                order = (p,d,q)\n",
    "                try:\n",
    "                    rmse = evaluate_arima_model(dataset, order, exogenous)\n",
    "                    if rmse < best_score:\n",
    "                        best_score, best_cfg = rmse, order\n",
    "                    print('ARIMA%s RMSE=%.3f' % (order,rmse))\n",
    "                except:\n",
    "                    continue\n",
    "    print('Best ARIMA%s RMSE=%.3f' % (best_cfg, best_score))\n",
    "    return best_cfg"
   ]
  },
  {
   "cell_type": "code",
   "execution_count": 363,
   "id": "a91aecc2",
   "metadata": {},
   "outputs": [
    {
     "name": "stdout",
     "output_type": "stream",
     "text": [
      "<class 'pandas.core.frame.DataFrame'>\n",
      "RangeIndex: 8 entries, 0 to 7\n",
      "Data columns (total 14 columns):\n",
      " #   Column                     Non-Null Count  Dtype  \n",
      "---  ------                     --------------  -----  \n",
      " 0   Unnamed: 0                 8 non-null      int64  \n",
      " 1   Unnamed: 0.1               8 non-null      int64  \n",
      " 2   Year                       8 non-null      int64  \n",
      " 3   BEV sales                  8 non-null      int64  \n",
      " 4   PHEV sales                 8 non-null      int64  \n",
      " 5   Total                      8 non-null      int64  \n",
      " 6   Gasoline Price             8 non-null      float64\n",
      " 7   Median Income              8 non-null      int64  \n",
      " 8   Population                 8 non-null      int64  \n",
      " 9   Renewable Energy Use       8 non-null      int64  \n",
      " 10  Total Energy Use           8 non-null      int64  \n",
      " 11  Transportation Energy Use  8 non-null      int64  \n",
      " 12  Stations Opened            8 non-null      float64\n",
      " 13  Lithium Price              8 non-null      int64  \n",
      "dtypes: float64(2), int64(12)\n",
      "memory usage: 1.0 KB\n"
     ]
    },
    {
     "data": {
      "text/plain": [
       "Index(['Unnamed: 0', 'Unnamed: 0.1', 'Year', 'BEV sales', 'PHEV sales',\n",
       "       'Total', 'Gasoline Price', 'Median Income', 'Population',\n",
       "       'Renewable Energy Use', 'Total Energy Use', 'Transportation Energy Use',\n",
       "       'Stations Opened', 'Lithium Price'],\n",
       "      dtype='object')"
      ]
     },
     "execution_count": 363,
     "metadata": {},
     "output_type": "execute_result"
    }
   ],
   "source": [
    "filename = './' + State_abbrv + '_EV_sales_data_final.csv'\n",
    "filename2 = './' + State_abbrv + '_Exogenous_ARIMA_prediction_data.csv'\n",
    "filename3 = './' + State_abbrv + '_EV_sales_prediction_data.csv'\n",
    "State_df = pd.read_csv(filename)\n",
    "State_df.info()\n",
    "State_df.head()\n",
    "State_df.keys()"
   ]
  },
  {
   "cell_type": "code",
   "execution_count": 364,
   "id": "68c1dce7",
   "metadata": {},
   "outputs": [],
   "source": [
    "# Cleanup columns and set date as index\n",
    "\n",
    "State_df = State_df.drop(columns=['Unnamed: 0','Unnamed: 0.1'])\n",
    "State_df['Year'] = pd.to_datetime(State_df.Year, format='%Y')\n",
    "State_df.set_index('Year',inplace=True)\n",
    "State_df.rename(columns={'Gasoline Price':'Gasoline_Price','Median Income':'Median_Income','Lithium Price':'Lithium_Price'},inplace=True)"
   ]
  },
  {
   "cell_type": "code",
   "execution_count": 365,
   "id": "2e28c844",
   "metadata": {},
   "outputs": [
    {
     "data": {
      "text/html": [
       "<div>\n",
       "<style scoped>\n",
       "    .dataframe tbody tr th:only-of-type {\n",
       "        vertical-align: middle;\n",
       "    }\n",
       "\n",
       "    .dataframe tbody tr th {\n",
       "        vertical-align: top;\n",
       "    }\n",
       "\n",
       "    .dataframe thead th {\n",
       "        text-align: right;\n",
       "    }\n",
       "</style>\n",
       "<table border=\"1\" class=\"dataframe\">\n",
       "  <thead>\n",
       "    <tr style=\"text-align: right;\">\n",
       "      <th></th>\n",
       "      <th>BEV sales</th>\n",
       "      <th>PHEV sales</th>\n",
       "      <th>Total</th>\n",
       "      <th>Gasoline_Price</th>\n",
       "      <th>Median_Income</th>\n",
       "      <th>Population</th>\n",
       "      <th>Renewable Energy Use</th>\n",
       "      <th>Total Energy Use</th>\n",
       "      <th>Transportation Energy Use</th>\n",
       "      <th>Stations Opened</th>\n",
       "      <th>Lithium_Price</th>\n",
       "    </tr>\n",
       "    <tr>\n",
       "      <th>Year</th>\n",
       "      <th></th>\n",
       "      <th></th>\n",
       "      <th></th>\n",
       "      <th></th>\n",
       "      <th></th>\n",
       "      <th></th>\n",
       "      <th></th>\n",
       "      <th></th>\n",
       "      <th></th>\n",
       "      <th></th>\n",
       "      <th></th>\n",
       "    </tr>\n",
       "  </thead>\n",
       "  <tbody>\n",
       "    <tr>\n",
       "      <th>2011-01-01</th>\n",
       "      <td>2</td>\n",
       "      <td>91</td>\n",
       "      <td>93</td>\n",
       "      <td>3.496</td>\n",
       "      <td>31766</td>\n",
       "      <td>5705840</td>\n",
       "      <td>208301</td>\n",
       "      <td>68612</td>\n",
       "      <td>420456</td>\n",
       "      <td>27.0</td>\n",
       "      <td>946</td>\n",
       "    </tr>\n",
       "    <tr>\n",
       "      <th>2012-01-01</th>\n",
       "      <td>98</td>\n",
       "      <td>538</td>\n",
       "      <td>636</td>\n",
       "      <td>3.566</td>\n",
       "      <td>33308</td>\n",
       "      <td>5720825</td>\n",
       "      <td>199588</td>\n",
       "      <td>68820</td>\n",
       "      <td>418959</td>\n",
       "      <td>45.0</td>\n",
       "      <td>744</td>\n",
       "    </tr>\n",
       "    <tr>\n",
       "      <th>2013-01-01</th>\n",
       "      <td>207</td>\n",
       "      <td>416</td>\n",
       "      <td>623</td>\n",
       "      <td>3.468</td>\n",
       "      <td>31133</td>\n",
       "      <td>5738012</td>\n",
       "      <td>206192</td>\n",
       "      <td>69124</td>\n",
       "      <td>416071</td>\n",
       "      <td>15.0</td>\n",
       "      <td>684</td>\n",
       "    </tr>\n",
       "    <tr>\n",
       "      <th>2014-01-01</th>\n",
       "      <td>191</td>\n",
       "      <td>435</td>\n",
       "      <td>626</td>\n",
       "      <td>3.303</td>\n",
       "      <td>30711</td>\n",
       "      <td>5753199</td>\n",
       "      <td>216236</td>\n",
       "      <td>69495</td>\n",
       "      <td>445797</td>\n",
       "      <td>38.0</td>\n",
       "      <td>606</td>\n",
       "    </tr>\n",
       "    <tr>\n",
       "      <th>2015-01-01</th>\n",
       "      <td>693</td>\n",
       "      <td>290</td>\n",
       "      <td>983</td>\n",
       "      <td>2.339</td>\n",
       "      <td>29123</td>\n",
       "      <td>5762927</td>\n",
       "      <td>223327</td>\n",
       "      <td>68699</td>\n",
       "      <td>440631</td>\n",
       "      <td>50.0</td>\n",
       "      <td>393</td>\n",
       "    </tr>\n",
       "  </tbody>\n",
       "</table>\n",
       "</div>"
      ],
      "text/plain": [
       "            BEV sales  PHEV sales  Total  Gasoline_Price  Median_Income  \\\n",
       "Year                                                                      \n",
       "2011-01-01          2          91     93           3.496          31766   \n",
       "2012-01-01         98         538    636           3.566          33308   \n",
       "2013-01-01        207         416    623           3.468          31133   \n",
       "2014-01-01        191         435    626           3.303          30711   \n",
       "2015-01-01        693         290    983           2.339          29123   \n",
       "\n",
       "            Population  Renewable Energy Use  Total Energy Use  \\\n",
       "Year                                                             \n",
       "2011-01-01     5705840                208301             68612   \n",
       "2012-01-01     5720825                199588             68820   \n",
       "2013-01-01     5738012                206192             69124   \n",
       "2014-01-01     5753199                216236             69495   \n",
       "2015-01-01     5762927                223327             68699   \n",
       "\n",
       "            Transportation Energy Use  Stations Opened  Lithium_Price  \n",
       "Year                                                                   \n",
       "2011-01-01                     420456             27.0            946  \n",
       "2012-01-01                     418959             45.0            744  \n",
       "2013-01-01                     416071             15.0            684  \n",
       "2014-01-01                     445797             38.0            606  \n",
       "2015-01-01                     440631             50.0            393  "
      ]
     },
     "execution_count": 365,
     "metadata": {},
     "output_type": "execute_result"
    }
   ],
   "source": [
    "State_df.head()"
   ]
  },
  {
   "cell_type": "code",
   "execution_count": 366,
   "id": "bbdef184",
   "metadata": {},
   "outputs": [
    {
     "data": {
      "text/plain": [
       "Text(0.5, 0, 'Year')"
      ]
     },
     "execution_count": 366,
     "metadata": {},
     "output_type": "execute_result"
    },
    {
     "data": {
      "image/png": "[encoded data removed]",
      "text/plain": [
       "<Figure size 432x288 with 1 Axes>"
      ]
     },
     "metadata": {
      "needs_background": "light"
     },
     "output_type": "display_data"
    }
   ],
   "source": [
    "# Plot the time series\n",
    "\n",
    "plt.figure(0)\n",
    "plt.plot(State_df.Total)\n",
    "plt.title('Total EV sales over time')\n",
    "plt.ylabel('Sales')\n",
    "plt.xlabel('Year')"
   ]
  },
  {
   "cell_type": "code",
   "execution_count": 367,
   "id": "69d48304",
   "metadata": {},
   "outputs": [
    {
     "data": {
      "image/png": "[encoded data removed]",
      "text/plain": [
       "<Figure size 432x288 with 1 Axes>"
      ]
     },
     "metadata": {
      "needs_background": "light"
     },
     "output_type": "display_data"
    }
   ],
   "source": [
    "# Plot ACF\n",
    "# Anything within the blue bars is statistically insignificant\n",
    "\n",
    "acf_plot = plot_acf(State_df.Total[:-1])"
   ]
  },
  {
   "cell_type": "code",
   "execution_count": 368,
   "id": "c7749937",
   "metadata": {},
   "outputs": [
    {
     "data": {
      "image/png": "[encoded data removed]",
      "text/plain": [
       "<Figure size 432x288 with 1 Axes>"
      ]
     },
     "metadata": {
      "needs_background": "light"
     },
     "output_type": "display_data"
    }
   ],
   "source": [
    "# Plot PACF\n",
    "# Anything within the blue bars is statistically insignificant\n",
    "\n",
    "pacf_plot = plot_acf(State_df.Total[:-1])"
   ]
  },
  {
   "cell_type": "code",
   "execution_count": 369,
   "id": "0e8236ba",
   "metadata": {},
   "outputs": [
    {
     "name": "stdout",
     "output_type": "stream",
     "text": [
      "ADF Statistic: 0.639468\n",
      "p-value: 0.988549\n"
     ]
    }
   ],
   "source": [
    "# Perform ADF test to check if time series is stationary\n",
    "result = adfuller(State_df['Total'])\n",
    "print('ADF Statistic: %f' % result[0])\n",
    "print('p-value: %f' % result[1])"
   ]
  },
  {
   "cell_type": "code",
   "execution_count": 370,
   "id": "2d92ac11",
   "metadata": {},
   "outputs": [
    {
     "name": "stdout",
     "output_type": "stream",
     "text": [
      "ARIMA(0, 0, 0) RMSE=524.366\n",
      "ARIMA(0, 0, 1) RMSE=550.760\n",
      "ARIMA(0, 0, 2) RMSE=616.654\n",
      "ARIMA(0, 1, 0) RMSE=403.769\n",
      "ARIMA(0, 1, 1) RMSE=523.019\n",
      "ARIMA(0, 1, 2) RMSE=533.415\n",
      "ARIMA(0, 2, 0) RMSE=518.958\n",
      "ARIMA(0, 2, 1) RMSE=615.785\n",
      "ARIMA(0, 2, 2) RMSE=518.780\n",
      "ARIMA(1, 0, 0) RMSE=591.608\n",
      "ARIMA(1, 0, 1) RMSE=581.820\n",
      "ARIMA(1, 0, 2) RMSE=640.712\n",
      "ARIMA(1, 1, 0) RMSE=512.972\n",
      "ARIMA(1, 1, 1) RMSE=603.502\n",
      "ARIMA(1, 1, 2) RMSE=509.888\n",
      "ARIMA(1, 2, 0) RMSE=564.740\n",
      "ARIMA(1, 2, 1) RMSE=681.805\n",
      "ARIMA(1, 2, 2) RMSE=547.616\n",
      "ARIMA(2, 0, 0) RMSE=649.786\n",
      "ARIMA(2, 0, 1) RMSE=770.680\n",
      "ARIMA(2, 0, 2) RMSE=653.564\n",
      "ARIMA(2, 1, 0) RMSE=687.772\n",
      "ARIMA(2, 1, 1) RMSE=797.969\n",
      "ARIMA(2, 1, 2) RMSE=728.439\n",
      "ARIMA(2, 2, 0) RMSE=1013.792\n",
      "ARIMA(2, 2, 1) RMSE=620.919\n",
      "ARIMA(2, 2, 2) RMSE=743.621\n",
      "Best ARIMA(0, 1, 0) RMSE=403.769\n"
     ]
    }
   ],
   "source": [
    "# Find optimal (p,d,q)\n",
    "p_values = range(0, 3)\n",
    "d_values = range(0, 3)\n",
    "q_values = range(0, 3)\n",
    "\n",
    "warnings.filterwarnings(\"ignore\")\n",
    "best_cfg_EV = evaluate_models(State_df['Total'].values, p_values, d_values, q_values, np.column_stack([State_df['Gasoline_Price'].values,State_df['Median_Income'].values,State_df['Lithium_Price'].values]))"
   ]
  },
  {
   "cell_type": "code",
   "execution_count": 371,
   "id": "a607f72d",
   "metadata": {
    "scrolled": false
   },
   "outputs": [
    {
     "name": "stdout",
     "output_type": "stream",
     "text": [
      "                               SARIMAX Results                                \n",
      "==============================================================================\n",
      "Dep. Variable:                  Total   No. Observations:                    8\n",
      "Model:                 ARIMA(0, 1, 0)   Log Likelihood                 -48.095\n",
      "Date:                Fri, 01 Apr 2022   AIC                            104.190\n",
      "Time:                        16:42:39   BIC                            103.973\n",
      "Sample:                    01-01-2011   HQIC                           101.516\n",
      "                         - 01-01-2018                                         \n",
      "Covariance Type:                  opg                                         \n",
      "==============================================================================\n",
      "                 coef    std err          z      P>|z|      [0.025      0.975]\n",
      "------------------------------------------------------------------------------\n",
      "x1           -41.1265    492.649     -0.083      0.933   -1006.700     924.447\n",
      "x2             0.1183      0.186      0.636      0.525      -0.246       0.483\n",
      "x3            -2.6481      1.683     -1.574      0.116      -5.946       0.650\n",
      "sigma2      5.437e+04   5.92e+04      0.918      0.359   -6.17e+04     1.7e+05\n",
      "===================================================================================\n",
      "Ljung-Box (L1) (Q):                   0.57   Jarque-Bera (JB):                 0.83\n",
      "Prob(Q):                              0.45   Prob(JB):                         0.66\n",
      "Heteroskedasticity (H):               2.12   Skew:                             0.76\n",
      "Prob(H) (two-sided):                  0.64   Kurtosis:                         2.29\n",
      "===================================================================================\n",
      "\n",
      "Warnings:\n",
      "[1] Covariance matrix calculated using the outer product of gradients (complex-step).\n"
     ]
    }
   ],
   "source": [
    "p = best_cfg_EV[0]\n",
    "d = best_cfg_EV[1]\n",
    "q = best_cfg_EV[2]\n",
    "#print(state_df['Total'].size)\n",
    "#print(state_df['Gasoline Price'].size)\n",
    "ARIMA_model = ARIMA(State_df['Total'],order=(p,d,q),exog=np.column_stack([State_df['Gasoline_Price'],State_df['Median_Income'],State_df['Lithium_Price']]))\n",
    "ARIMA_model_fit = ARIMA_model.fit()\n",
    "print(ARIMA_model_fit.summary())\n",
    "    \n"
   ]
  },
  {
   "cell_type": "code",
   "execution_count": 372,
   "id": "3ba3e33d",
   "metadata": {},
   "outputs": [],
   "source": [
    "# Forecast\n",
    "Exog_df = pd.read_csv(filename2)\n",
    "pred_sales = ARIMA_model_fit.forecast(15,exog=np.column_stack([Exog_df['Gasoline_Price_predicted'],Exog_df['Median_Income_predicted'],Exog_df['Lithium_Price_predicted']]), alpha=0.05)  # 95% conf"
   ]
  },
  {
   "cell_type": "code",
   "execution_count": 373,
   "id": "6bdebc2c",
   "metadata": {},
   "outputs": [
    {
     "data": {
      "text/html": [
       "<div>\n",
       "<style scoped>\n",
       "    .dataframe tbody tr th:only-of-type {\n",
       "        vertical-align: middle;\n",
       "    }\n",
       "\n",
       "    .dataframe tbody tr th {\n",
       "        vertical-align: top;\n",
       "    }\n",
       "\n",
       "    .dataframe thead th {\n",
       "        text-align: right;\n",
       "    }\n",
       "</style>\n",
       "<table border=\"1\" class=\"dataframe\">\n",
       "  <thead>\n",
       "    <tr style=\"text-align: right;\">\n",
       "      <th></th>\n",
       "      <th>Sales_predicted</th>\n",
       "    </tr>\n",
       "  </thead>\n",
       "  <tbody>\n",
       "    <tr>\n",
       "      <th>2019-01-01</th>\n",
       "      <td>1963.142317</td>\n",
       "    </tr>\n",
       "    <tr>\n",
       "      <th>2020-01-01</th>\n",
       "      <td>1951.587279</td>\n",
       "    </tr>\n",
       "    <tr>\n",
       "      <th>2021-01-01</th>\n",
       "      <td>1932.579399</td>\n",
       "    </tr>\n",
       "    <tr>\n",
       "      <th>2022-01-01</th>\n",
       "      <td>1910.556162</td>\n",
       "    </tr>\n",
       "    <tr>\n",
       "      <th>2023-01-01</th>\n",
       "      <td>1887.709227</td>\n",
       "    </tr>\n",
       "  </tbody>\n",
       "</table>\n",
       "</div>"
      ],
      "text/plain": [
       "            Sales_predicted\n",
       "2019-01-01      1963.142317\n",
       "2020-01-01      1951.587279\n",
       "2021-01-01      1932.579399\n",
       "2022-01-01      1910.556162\n",
       "2023-01-01      1887.709227"
      ]
     },
     "execution_count": 373,
     "metadata": {},
     "output_type": "execute_result"
    }
   ],
   "source": [
    "Predicted_df = pd.DataFrame(pred_sales)\n",
    "Predicted_df.rename(columns={'predicted_mean':'Sales_predicted'},inplace=True)\n",
    "Predicted_df.head()"
   ]
  },
  {
   "cell_type": "code",
   "execution_count": 374,
   "id": "6c321ce0",
   "metadata": {},
   "outputs": [],
   "source": [
    "Predicted_df.to_csv(filename3)"
   ]
  }
 ],
 "metadata": {
  "kernelspec": {
   "display_name": "Python 3 (ipykernel)",
   "language": "python",
   "name": "python3"
  },
  "language_info": {
   "codemirror_mode": {
    "name": "ipython",
    "version": 3
   },
   "file_extension": ".py",
   "mimetype": "text/x-python",
   "name": "python",
   "nbconvert_exporter": "python",
   "pygments_lexer": "ipython3",
   "version": "3.8.5"
  }
 },
 "nbformat": 4,
 "nbformat_minor": 5
}
