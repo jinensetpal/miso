{
 "cells": [
  {
   "cell_type": "code",
   "execution_count": 1,
   "id": "6cf7edd6",
   "metadata": {},
   "outputs": [
    {
     "name": "stdout",
     "output_type": "stream",
     "text": [
      "<class 'pandas.core.frame.DataFrame'>\n",
      "RangeIndex: 88 entries, 0 to 87\n",
      "Data columns (total 14 columns):\n",
      " #   Column                     Non-Null Count  Dtype  \n",
      "---  ------                     --------------  -----  \n",
      " 0   Unnamed: 0                 88 non-null     int64  \n",
      " 1   Year                       88 non-null     int64  \n",
      " 2   State                      88 non-null     object \n",
      " 3   BEV sales                  88 non-null     int64  \n",
      " 4   PHEV sales                 88 non-null     int64  \n",
      " 5   Total                      88 non-null     int64  \n",
      " 6   Gasoline Price             88 non-null     float64\n",
      " 7   Median Income              88 non-null     int64  \n",
      " 8   Population                 88 non-null     int64  \n",
      " 9   Renewable Energy Use       88 non-null     int64  \n",
      " 10  Total Energy Use           88 non-null     int64  \n",
      " 11  Transportation Energy Use  88 non-null     int64  \n",
      " 12  Stations Opened            80 non-null     float64\n",
      " 13  Lithium Price              88 non-null     int64  \n",
      "dtypes: float64(2), int64(11), object(1)\n",
      "memory usage: 9.8+ KB\n"
     ]
    }
   ],
   "source": [
    "import pandas as pd\n",
    "\n",
    "# Importing the csv file first and print a summary\n",
    "filename = './EV_sales_data_final.csv'\n",
    "df = pd.read_csv(filename)\n",
    "df.info()"
   ]
  },
  {
   "cell_type": "code",
   "execution_count": 2,
   "id": "9e0ac5ed",
   "metadata": {},
   "outputs": [],
   "source": [
    "state_list = ['AR','IA','IL','IN','LA','MI','MN','MO','MS','ND','WI']\n",
    "for state in state_list:\n",
    "    State_df = df.loc[df['State'] == state]\n",
    "    State_df = State_df.drop(columns=['State'])\n",
    "    State_df.to_csv('./' + state + '_EV_sales_data_final.csv')"
   ]
  }
 ],
 "metadata": {
  "kernelspec": {
   "display_name": "Python 3 (ipykernel)",
   "language": "python",
   "name": "python3"
  },
  "language_info": {
   "codemirror_mode": {
    "name": "ipython",
    "version": 3
   },
   "file_extension": ".py",
   "mimetype": "text/x-python",
   "name": "python",
   "nbconvert_exporter": "python",
   "pygments_lexer": "ipython3",
   "version": "3.8.5"
  }
 },
 "nbformat": 4,
 "nbformat_minor": 5
}
